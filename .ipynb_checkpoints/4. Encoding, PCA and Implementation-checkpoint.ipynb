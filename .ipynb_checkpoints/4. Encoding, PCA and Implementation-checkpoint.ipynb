{
 "cells": [
  {
   "cell_type": "markdown",
   "id": "b5ebe1a5",
   "metadata": {
    "id": "b5ebe1a5"
   },
   "source": [
    "## Importing Libraries and Data"
   ]
  },
  {
   "cell_type": "code",
   "execution_count": 1,
   "id": "4696148f",
   "metadata": {
    "id": "4696148f"
   },
   "outputs": [],
   "source": [
    "from MySQLConnect import mysql_engine\n",
    "from DataPreprocessing import selectPC, crossval\n",
    "from Implementation import RMLPModel, MLPModel, LR_Model\n",
    "import pandas as pd\n",
    "import numpy as np\n",
    "import matplotlib.pyplot as plt\n",
    "from pandasql import sqldf\n",
    "import sklearn\n",
    "from sklearn.linear_model import LinearRegression\n",
    "from sklearn.model_selection import train_test_split\n",
    "from sklearn import metrics\n",
    "import time"
   ]
  },
  {
   "cell_type": "code",
   "execution_count": 2,
   "id": "d159fc56",
   "metadata": {
    "id": "d159fc56"
   },
   "outputs": [],
   "source": [
    "engine = mysql_engine()"
   ]
  },
  {
   "cell_type": "code",
   "execution_count": 6,
   "id": "17e55934",
   "metadata": {
    "id": "17e55934",
    "scrolled": true
   },
   "outputs": [],
   "source": [
    "x_norm = pd.read_sql(\"select * from x_norm\", engine)\n",
    "x_norm.info()"
   ]
  },
  {
   "cell_type": "code",
   "execution_count": 7,
   "id": "58a7351b",
   "metadata": {
    "id": "58a7351b"
   },
   "outputs": [],
   "source": [
    "x_stand = pd.read_sql(\"select * from x_stand\", engine)\n",
    "x_stand.info()"
   ]
  },
  {
   "cell_type": "code",
   "execution_count": 8,
   "id": "e341a3bd",
   "metadata": {
    "id": "e341a3bd"
   },
   "outputs": [],
   "source": [
    "y = pd.read_sql(\"select * from y\", engine)\n",
    "y.info()"
   ]
  },
  {
   "cell_type": "code",
   "execution_count": 9,
   "id": "b6c0763e",
   "metadata": {
    "id": "b6c0763e"
   },
   "outputs": [],
   "source": [
    "dates_regions = x_stand[[\"Month\", \"Year\", \"County\", \"PropertyType\"]]"
   ]
  },
  {
   "cell_type": "code",
   "execution_count": 10,
   "id": "3jDV7FdZqBBn",
   "metadata": {
    "colab": {
     "base_uri": "https://localhost:8080/",
     "height": 424
    },
    "id": "3jDV7FdZqBBn",
    "outputId": "2576ce45-6ef8-4727-9c7d-802d8140b1e6"
   },
   "outputs": [
    {
     "data": {
      "text/html": [
       "<div>\n",
       "<style scoped>\n",
       "    .dataframe tbody tr th:only-of-type {\n",
       "        vertical-align: middle;\n",
       "    }\n",
       "\n",
       "    .dataframe tbody tr th {\n",
       "        vertical-align: top;\n",
       "    }\n",
       "\n",
       "    .dataframe thead th {\n",
       "        text-align: right;\n",
       "    }\n",
       "</style>\n",
       "<table border=\"1\" class=\"dataframe\">\n",
       "  <thead>\n",
       "    <tr style=\"text-align: right;\">\n",
       "      <th></th>\n",
       "      <th>Month</th>\n",
       "      <th>Year</th>\n",
       "      <th>County</th>\n",
       "      <th>PropertyType</th>\n",
       "    </tr>\n",
       "  </thead>\n",
       "  <tbody>\n",
       "    <tr>\n",
       "      <th>0</th>\n",
       "      <td>1</td>\n",
       "      <td>2006</td>\n",
       "      <td>West Sussex</td>\n",
       "      <td>Detached</td>\n",
       "    </tr>\n",
       "    <tr>\n",
       "      <th>1</th>\n",
       "      <td>2</td>\n",
       "      <td>2006</td>\n",
       "      <td>West Sussex</td>\n",
       "      <td>Detached</td>\n",
       "    </tr>\n",
       "    <tr>\n",
       "      <th>2</th>\n",
       "      <td>3</td>\n",
       "      <td>2006</td>\n",
       "      <td>West Sussex</td>\n",
       "      <td>Detached</td>\n",
       "    </tr>\n",
       "    <tr>\n",
       "      <th>3</th>\n",
       "      <td>4</td>\n",
       "      <td>2006</td>\n",
       "      <td>West Sussex</td>\n",
       "      <td>Detached</td>\n",
       "    </tr>\n",
       "    <tr>\n",
       "      <th>4</th>\n",
       "      <td>5</td>\n",
       "      <td>2006</td>\n",
       "      <td>West Sussex</td>\n",
       "      <td>Detached</td>\n",
       "    </tr>\n",
       "    <tr>\n",
       "      <th>...</th>\n",
       "      <td>...</td>\n",
       "      <td>...</td>\n",
       "      <td>...</td>\n",
       "      <td>...</td>\n",
       "    </tr>\n",
       "    <tr>\n",
       "      <th>257083</th>\n",
       "      <td>12</td>\n",
       "      <td>2022</td>\n",
       "      <td>York</td>\n",
       "      <td>Terraced</td>\n",
       "    </tr>\n",
       "    <tr>\n",
       "      <th>257084</th>\n",
       "      <td>1</td>\n",
       "      <td>2023</td>\n",
       "      <td>York</td>\n",
       "      <td>Terraced</td>\n",
       "    </tr>\n",
       "    <tr>\n",
       "      <th>257085</th>\n",
       "      <td>2</td>\n",
       "      <td>2023</td>\n",
       "      <td>York</td>\n",
       "      <td>Terraced</td>\n",
       "    </tr>\n",
       "    <tr>\n",
       "      <th>257086</th>\n",
       "      <td>3</td>\n",
       "      <td>2023</td>\n",
       "      <td>York</td>\n",
       "      <td>Terraced</td>\n",
       "    </tr>\n",
       "    <tr>\n",
       "      <th>257087</th>\n",
       "      <td>4</td>\n",
       "      <td>2023</td>\n",
       "      <td>York</td>\n",
       "      <td>Terraced</td>\n",
       "    </tr>\n",
       "  </tbody>\n",
       "</table>\n",
       "<p>257088 rows × 4 columns</p>\n",
       "</div>"
      ],
      "text/plain": [
       "        Month  Year       County PropertyType\n",
       "0           1  2006  West Sussex     Detached\n",
       "1           2  2006  West Sussex     Detached\n",
       "2           3  2006  West Sussex     Detached\n",
       "3           4  2006  West Sussex     Detached\n",
       "4           5  2006  West Sussex     Detached\n",
       "...       ...   ...          ...          ...\n",
       "257083     12  2022         York     Terraced\n",
       "257084      1  2023         York     Terraced\n",
       "257085      2  2023         York     Terraced\n",
       "257086      3  2023         York     Terraced\n",
       "257087      4  2023         York     Terraced\n",
       "\n",
       "[257088 rows x 4 columns]"
      ]
     },
     "execution_count": 10,
     "metadata": {},
     "output_type": "execute_result"
    }
   ],
   "source": [
    "dates_regions"
   ]
  },
  {
   "cell_type": "markdown",
   "id": "FrgMAaSCcB2r",
   "metadata": {
    "id": "FrgMAaSCcB2r"
   },
   "source": [
    "# Exploring extraneous house prices"
   ]
  },
  {
   "cell_type": "code",
   "execution_count": 11,
   "id": "hlFz1gpCavOO",
   "metadata": {
    "colab": {
     "base_uri": "https://localhost:8080/"
    },
    "id": "hlFz1gpCavOO",
    "outputId": "b56a9249-a8c0-48fd-8417-39c889216763"
   },
   "outputs": [
    {
     "data": {
      "text/plain": [
       "4621814.717"
      ]
     },
     "execution_count": 11,
     "metadata": {},
     "output_type": "execute_result"
    }
   ],
   "source": [
    "y[\"AvgPrice\"].max()"
   ]
  },
  {
   "cell_type": "code",
   "execution_count": 12,
   "id": "oBJwd-UOa88p",
   "metadata": {
    "colab": {
     "base_uri": "https://localhost:8080/",
     "height": 81
    },
    "id": "oBJwd-UOa88p",
    "outputId": "91705eeb-9fa1-40a6-8274-0caf289673d9"
   },
   "outputs": [
    {
     "data": {
      "text/html": [
       "<div>\n",
       "<style scoped>\n",
       "    .dataframe tbody tr th:only-of-type {\n",
       "        vertical-align: middle;\n",
       "    }\n",
       "\n",
       "    .dataframe tbody tr th {\n",
       "        vertical-align: top;\n",
       "    }\n",
       "\n",
       "    .dataframe thead th {\n",
       "        text-align: right;\n",
       "    }\n",
       "</style>\n",
       "<table border=\"1\" class=\"dataframe\">\n",
       "  <thead>\n",
       "    <tr style=\"text-align: right;\">\n",
       "      <th></th>\n",
       "      <th>Month</th>\n",
       "      <th>Year</th>\n",
       "      <th>RegionName</th>\n",
       "      <th>County</th>\n",
       "      <th>State</th>\n",
       "      <th>PropertyType</th>\n",
       "      <th>LaggedIndex</th>\n",
       "      <th>LaggedMonthChange</th>\n",
       "      <th>LaggedYearChange</th>\n",
       "    </tr>\n",
       "  </thead>\n",
       "  <tbody>\n",
       "    <tr>\n",
       "      <th>119588</th>\n",
       "      <td>5</td>\n",
       "      <td>2022</td>\n",
       "      <td>Kensington and Chelsea</td>\n",
       "      <td>Greater London</td>\n",
       "      <td>England</td>\n",
       "      <td>Semi-Detached</td>\n",
       "      <td>0.567607</td>\n",
       "      <td>0.584799</td>\n",
       "      <td>0.162806</td>\n",
       "    </tr>\n",
       "  </tbody>\n",
       "</table>\n",
       "</div>"
      ],
      "text/plain": [
       "        Month  Year              RegionName          County    State  \\\n",
       "119588      5  2022  Kensington and Chelsea  Greater London  England   \n",
       "\n",
       "         PropertyType  LaggedIndex  LaggedMonthChange  LaggedYearChange  \n",
       "119588  Semi-Detached     0.567607           0.584799          0.162806  "
      ]
     },
     "execution_count": 12,
     "metadata": {},
     "output_type": "execute_result"
    }
   ],
   "source": [
    "x_norm[y[\"AvgPrice\"]==y[\"AvgPrice\"].max()]"
   ]
  },
  {
   "cell_type": "code",
   "execution_count": 13,
   "id": "AKS4axHecMmh",
   "metadata": {
    "colab": {
     "base_uri": "https://localhost:8080/"
    },
    "id": "AKS4axHecMmh",
    "outputId": "db5bfe16-e508-4d8a-e21d-9ab6ea1223fa"
   },
   "outputs": [
    {
     "data": {
      "text/plain": [
       "360698.0559"
      ]
     },
     "execution_count": 13,
     "metadata": {},
     "output_type": "execute_result"
    }
   ],
   "source": [
    "y[x_norm[\"RegionName\"] == \"Liverpool\"][\"AvgPrice\"].max()"
   ]
  },
  {
   "cell_type": "code",
   "execution_count": 14,
   "id": "MDziIpE0dmx5",
   "metadata": {
    "colab": {
     "base_uri": "https://localhost:8080/"
    },
    "id": "MDziIpE0dmx5",
    "outputId": "d04e02b4-ce64-4652-da10-cd4a0c469422"
   },
   "outputs": [
    {
     "data": {
      "text/plain": [
       "Month                          1\n",
       "Year                        2006\n",
       "RegionName                  Adur\n",
       "County               West Sussex\n",
       "State                    England\n",
       "PropertyType                Flat\n",
       "LaggedIndex             0.278156\n",
       "LaggedMonthChange       0.502447\n",
       "LaggedYearChange        0.295592\n",
       "Name: 208, dtype: object"
      ]
     },
     "execution_count": 14,
     "metadata": {},
     "output_type": "execute_result"
    }
   ],
   "source": [
    "x_norm.iloc[208]"
   ]
  },
  {
   "cell_type": "code",
   "execution_count": 15,
   "id": "-CW1Lao5bYbu",
   "metadata": {
    "colab": {
     "base_uri": "https://localhost:8080/"
    },
    "id": "-CW1Lao5bYbu",
    "outputId": "276ef73c-280b-4e26-8e7b-410c3096a6a5"
   },
   "outputs": [
    {
     "data": {
      "text/plain": [
       "39065.09901"
      ]
     },
     "execution_count": 15,
     "metadata": {},
     "output_type": "execute_result"
    }
   ],
   "source": [
    "y[\"AvgPrice\"].min()"
   ]
  },
  {
   "cell_type": "code",
   "execution_count": 16,
   "id": "_wJVKHtxbcMu",
   "metadata": {
    "colab": {
     "base_uri": "https://localhost:8080/",
     "height": 81
    },
    "id": "_wJVKHtxbcMu",
    "outputId": "ccc1f93f-270c-405b-804b-cac8be1d06d4"
   },
   "outputs": [
    {
     "data": {
      "text/html": [
       "<div>\n",
       "<style scoped>\n",
       "    .dataframe tbody tr th:only-of-type {\n",
       "        vertical-align: middle;\n",
       "    }\n",
       "\n",
       "    .dataframe tbody tr th {\n",
       "        vertical-align: top;\n",
       "    }\n",
       "\n",
       "    .dataframe thead th {\n",
       "        text-align: right;\n",
       "    }\n",
       "</style>\n",
       "<table border=\"1\" class=\"dataframe\">\n",
       "  <thead>\n",
       "    <tr style=\"text-align: right;\">\n",
       "      <th></th>\n",
       "      <th>Month</th>\n",
       "      <th>Year</th>\n",
       "      <th>RegionName</th>\n",
       "      <th>County</th>\n",
       "      <th>State</th>\n",
       "      <th>PropertyType</th>\n",
       "      <th>LaggedIndex</th>\n",
       "      <th>LaggedMonthChange</th>\n",
       "      <th>LaggedYearChange</th>\n",
       "    </tr>\n",
       "  </thead>\n",
       "  <tbody>\n",
       "    <tr>\n",
       "      <th>147058</th>\n",
       "      <td>3</td>\n",
       "      <td>2006</td>\n",
       "      <td>Na h-Eileanan Siar</td>\n",
       "      <td>Na h-Eileanan Siar</td>\n",
       "      <td>Scotland</td>\n",
       "      <td>Terraced</td>\n",
       "      <td>0.153731</td>\n",
       "      <td>0.125758</td>\n",
       "      <td>0.940523</td>\n",
       "    </tr>\n",
       "  </tbody>\n",
       "</table>\n",
       "</div>"
      ],
      "text/plain": [
       "        Month  Year          RegionName              County     State  \\\n",
       "147058      3  2006  Na h-Eileanan Siar  Na h-Eileanan Siar  Scotland   \n",
       "\n",
       "       PropertyType  LaggedIndex  LaggedMonthChange  LaggedYearChange  \n",
       "147058     Terraced     0.153731           0.125758          0.940523  "
      ]
     },
     "execution_count": 16,
     "metadata": {},
     "output_type": "execute_result"
    }
   ],
   "source": [
    "x_norm[y[\"AvgPrice\"]==y[\"AvgPrice\"].min()]"
   ]
  },
  {
   "cell_type": "markdown",
   "id": "vQ4i5LGEhkuc",
   "metadata": {
    "id": "vQ4i5LGEhkuc"
   },
   "source": [
    "> The difference in house valuation seems to change with county, year, and property type, therefore the evaluation will involve calculation of ranges for each parameter in order to normalize RMSE."
   ]
  },
  {
   "cell_type": "markdown",
   "id": "b560a72a",
   "metadata": {
    "id": "b560a72a"
   },
   "source": [
    "# Data Preprocessing (2/2)"
   ]
  },
  {
   "cell_type": "markdown",
   "id": "d8d4d7f8",
   "metadata": {
    "id": "d8d4d7f8"
   },
   "source": [
    "## Encoding"
   ]
  },
  {
   "cell_type": "markdown",
   "id": "059bf168",
   "metadata": {
    "id": "059bf168"
   },
   "source": [
    "> Data in categorical columns is nominal (i.e. in no particular order), so OneHotEncoder is used."
   ]
  },
  {
   "cell_type": "markdown",
   "id": "40320de0",
   "metadata": {
    "id": "40320de0"
   },
   "source": [
    "> Spaces are also removed from column names induced by onehot encoding"
   ]
  },
  {
   "cell_type": "code",
   "execution_count": 17,
   "id": "528b3b36",
   "metadata": {
    "id": "528b3b36"
   },
   "outputs": [],
   "source": [
    "# One-Hot Encoding for normalised data\n",
    "\n",
    "x_norm = pd.get_dummies(x_norm, columns=[\"RegionName\", \"Year\", \"Month\", \"County\", \"State\", \"PropertyType\"])\n",
    "x_norm.columns = x_norm.columns.str.replace(' ','')"
   ]
  },
  {
   "cell_type": "code",
   "execution_count": 19,
   "id": "00bcc8bc",
   "metadata": {
    "colab": {
     "base_uri": "https://localhost:8080/",
     "height": 505
    },
    "id": "00bcc8bc",
    "outputId": "654b6214-54a4-4a56-b105-a51bf59959ca",
    "scrolled": false
   },
   "outputs": [
    {
     "data": {
      "text/html": [
       "<div>\n",
       "<style scoped>\n",
       "    .dataframe tbody tr th:only-of-type {\n",
       "        vertical-align: middle;\n",
       "    }\n",
       "\n",
       "    .dataframe tbody tr th {\n",
       "        vertical-align: top;\n",
       "    }\n",
       "\n",
       "    .dataframe thead th {\n",
       "        text-align: right;\n",
       "    }\n",
       "</style>\n",
       "<table border=\"1\" class=\"dataframe\">\n",
       "  <thead>\n",
       "    <tr style=\"text-align: right;\">\n",
       "      <th></th>\n",
       "      <th>LaggedIndex</th>\n",
       "      <th>LaggedMonthChange</th>\n",
       "      <th>LaggedYearChange</th>\n",
       "      <th>RegionName_Adur</th>\n",
       "      <th>RegionName_AmberValley</th>\n",
       "      <th>RegionName_Angus</th>\n",
       "      <th>RegionName_ArgyllandBute</th>\n",
       "      <th>RegionName_Arun</th>\n",
       "      <th>RegionName_Ashfield</th>\n",
       "      <th>RegionName_Ashford</th>\n",
       "      <th>...</th>\n",
       "      <th>County_YnysMôn/IsleofAnglesey</th>\n",
       "      <th>County_York</th>\n",
       "      <th>County_Yorkshire</th>\n",
       "      <th>State_England</th>\n",
       "      <th>State_Scotland</th>\n",
       "      <th>State_Wales</th>\n",
       "      <th>PropertyType_Detached</th>\n",
       "      <th>PropertyType_Flat</th>\n",
       "      <th>PropertyType_Semi-Detached</th>\n",
       "      <th>PropertyType_Terraced</th>\n",
       "    </tr>\n",
       "  </thead>\n",
       "  <tbody>\n",
       "    <tr>\n",
       "      <th>0</th>\n",
       "      <td>0.219230</td>\n",
       "      <td>0.476282</td>\n",
       "      <td>0.260101</td>\n",
       "      <td>1</td>\n",
       "      <td>0</td>\n",
       "      <td>0</td>\n",
       "      <td>0</td>\n",
       "      <td>0</td>\n",
       "      <td>0</td>\n",
       "      <td>0</td>\n",
       "      <td>...</td>\n",
       "      <td>0</td>\n",
       "      <td>0</td>\n",
       "      <td>0</td>\n",
       "      <td>1</td>\n",
       "      <td>0</td>\n",
       "      <td>0</td>\n",
       "      <td>1</td>\n",
       "      <td>0</td>\n",
       "      <td>0</td>\n",
       "      <td>0</td>\n",
       "    </tr>\n",
       "    <tr>\n",
       "      <th>1</th>\n",
       "      <td>0.215704</td>\n",
       "      <td>0.459136</td>\n",
       "      <td>0.238659</td>\n",
       "      <td>1</td>\n",
       "      <td>0</td>\n",
       "      <td>0</td>\n",
       "      <td>0</td>\n",
       "      <td>0</td>\n",
       "      <td>0</td>\n",
       "      <td>0</td>\n",
       "      <td>...</td>\n",
       "      <td>0</td>\n",
       "      <td>0</td>\n",
       "      <td>0</td>\n",
       "      <td>1</td>\n",
       "      <td>0</td>\n",
       "      <td>0</td>\n",
       "      <td>1</td>\n",
       "      <td>0</td>\n",
       "      <td>0</td>\n",
       "      <td>0</td>\n",
       "    </tr>\n",
       "    <tr>\n",
       "      <th>2</th>\n",
       "      <td>0.218431</td>\n",
       "      <td>0.494879</td>\n",
       "      <td>0.255445</td>\n",
       "      <td>1</td>\n",
       "      <td>0</td>\n",
       "      <td>0</td>\n",
       "      <td>0</td>\n",
       "      <td>0</td>\n",
       "      <td>0</td>\n",
       "      <td>0</td>\n",
       "      <td>...</td>\n",
       "      <td>0</td>\n",
       "      <td>0</td>\n",
       "      <td>0</td>\n",
       "      <td>1</td>\n",
       "      <td>0</td>\n",
       "      <td>0</td>\n",
       "      <td>1</td>\n",
       "      <td>0</td>\n",
       "      <td>0</td>\n",
       "      <td>0</td>\n",
       "    </tr>\n",
       "    <tr>\n",
       "      <th>3</th>\n",
       "      <td>0.219061</td>\n",
       "      <td>0.482807</td>\n",
       "      <td>0.250823</td>\n",
       "      <td>1</td>\n",
       "      <td>0</td>\n",
       "      <td>0</td>\n",
       "      <td>0</td>\n",
       "      <td>0</td>\n",
       "      <td>0</td>\n",
       "      <td>0</td>\n",
       "      <td>...</td>\n",
       "      <td>0</td>\n",
       "      <td>0</td>\n",
       "      <td>0</td>\n",
       "      <td>1</td>\n",
       "      <td>0</td>\n",
       "      <td>0</td>\n",
       "      <td>1</td>\n",
       "      <td>0</td>\n",
       "      <td>0</td>\n",
       "      <td>0</td>\n",
       "    </tr>\n",
       "    <tr>\n",
       "      <th>4</th>\n",
       "      <td>0.222888</td>\n",
       "      <td>0.501019</td>\n",
       "      <td>0.254032</td>\n",
       "      <td>1</td>\n",
       "      <td>0</td>\n",
       "      <td>0</td>\n",
       "      <td>0</td>\n",
       "      <td>0</td>\n",
       "      <td>0</td>\n",
       "      <td>0</td>\n",
       "      <td>...</td>\n",
       "      <td>0</td>\n",
       "      <td>0</td>\n",
       "      <td>0</td>\n",
       "      <td>1</td>\n",
       "      <td>0</td>\n",
       "      <td>0</td>\n",
       "      <td>1</td>\n",
       "      <td>0</td>\n",
       "      <td>0</td>\n",
       "      <td>0</td>\n",
       "    </tr>\n",
       "    <tr>\n",
       "      <th>...</th>\n",
       "      <td>...</td>\n",
       "      <td>...</td>\n",
       "      <td>...</td>\n",
       "      <td>...</td>\n",
       "      <td>...</td>\n",
       "      <td>...</td>\n",
       "      <td>...</td>\n",
       "      <td>...</td>\n",
       "      <td>...</td>\n",
       "      <td>...</td>\n",
       "      <td>...</td>\n",
       "      <td>...</td>\n",
       "      <td>...</td>\n",
       "      <td>...</td>\n",
       "      <td>...</td>\n",
       "      <td>...</td>\n",
       "      <td>...</td>\n",
       "      <td>...</td>\n",
       "      <td>...</td>\n",
       "      <td>...</td>\n",
       "      <td>...</td>\n",
       "    </tr>\n",
       "    <tr>\n",
       "      <th>257083</th>\n",
       "      <td>0.711493</td>\n",
       "      <td>0.459260</td>\n",
       "      <td>0.286811</td>\n",
       "      <td>0</td>\n",
       "      <td>0</td>\n",
       "      <td>0</td>\n",
       "      <td>0</td>\n",
       "      <td>0</td>\n",
       "      <td>0</td>\n",
       "      <td>0</td>\n",
       "      <td>...</td>\n",
       "      <td>0</td>\n",
       "      <td>1</td>\n",
       "      <td>0</td>\n",
       "      <td>1</td>\n",
       "      <td>0</td>\n",
       "      <td>0</td>\n",
       "      <td>0</td>\n",
       "      <td>0</td>\n",
       "      <td>0</td>\n",
       "      <td>1</td>\n",
       "    </tr>\n",
       "    <tr>\n",
       "      <th>257084</th>\n",
       "      <td>0.714593</td>\n",
       "      <td>0.487362</td>\n",
       "      <td>0.276651</td>\n",
       "      <td>0</td>\n",
       "      <td>0</td>\n",
       "      <td>0</td>\n",
       "      <td>0</td>\n",
       "      <td>0</td>\n",
       "      <td>0</td>\n",
       "      <td>0</td>\n",
       "      <td>...</td>\n",
       "      <td>0</td>\n",
       "      <td>1</td>\n",
       "      <td>0</td>\n",
       "      <td>1</td>\n",
       "      <td>0</td>\n",
       "      <td>0</td>\n",
       "      <td>0</td>\n",
       "      <td>0</td>\n",
       "      <td>0</td>\n",
       "      <td>1</td>\n",
       "    </tr>\n",
       "    <tr>\n",
       "      <th>257085</th>\n",
       "      <td>0.712590</td>\n",
       "      <td>0.473971</td>\n",
       "      <td>0.286636</td>\n",
       "      <td>0</td>\n",
       "      <td>0</td>\n",
       "      <td>0</td>\n",
       "      <td>0</td>\n",
       "      <td>0</td>\n",
       "      <td>0</td>\n",
       "      <td>0</td>\n",
       "      <td>...</td>\n",
       "      <td>0</td>\n",
       "      <td>1</td>\n",
       "      <td>0</td>\n",
       "      <td>1</td>\n",
       "      <td>0</td>\n",
       "      <td>0</td>\n",
       "      <td>0</td>\n",
       "      <td>0</td>\n",
       "      <td>0</td>\n",
       "      <td>1</td>\n",
       "    </tr>\n",
       "    <tr>\n",
       "      <th>257086</th>\n",
       "      <td>0.718463</td>\n",
       "      <td>0.494628</td>\n",
       "      <td>0.260064</td>\n",
       "      <td>0</td>\n",
       "      <td>0</td>\n",
       "      <td>0</td>\n",
       "      <td>0</td>\n",
       "      <td>0</td>\n",
       "      <td>0</td>\n",
       "      <td>0</td>\n",
       "      <td>...</td>\n",
       "      <td>0</td>\n",
       "      <td>1</td>\n",
       "      <td>0</td>\n",
       "      <td>1</td>\n",
       "      <td>0</td>\n",
       "      <td>0</td>\n",
       "      <td>0</td>\n",
       "      <td>0</td>\n",
       "      <td>0</td>\n",
       "      <td>1</td>\n",
       "    </tr>\n",
       "    <tr>\n",
       "      <th>257087</th>\n",
       "      <td>0.709400</td>\n",
       "      <td>0.455585</td>\n",
       "      <td>0.267796</td>\n",
       "      <td>0</td>\n",
       "      <td>0</td>\n",
       "      <td>0</td>\n",
       "      <td>0</td>\n",
       "      <td>0</td>\n",
       "      <td>0</td>\n",
       "      <td>0</td>\n",
       "      <td>...</td>\n",
       "      <td>0</td>\n",
       "      <td>1</td>\n",
       "      <td>0</td>\n",
       "      <td>1</td>\n",
       "      <td>0</td>\n",
       "      <td>0</td>\n",
       "      <td>0</td>\n",
       "      <td>0</td>\n",
       "      <td>0</td>\n",
       "      <td>1</td>\n",
       "    </tr>\n",
       "  </tbody>\n",
       "</table>\n",
       "<p>257088 rows × 453 columns</p>\n",
       "</div>"
      ],
      "text/plain": [
       "        LaggedIndex  LaggedMonthChange  LaggedYearChange  RegionName_Adur  \\\n",
       "0          0.219230           0.476282          0.260101                1   \n",
       "1          0.215704           0.459136          0.238659                1   \n",
       "2          0.218431           0.494879          0.255445                1   \n",
       "3          0.219061           0.482807          0.250823                1   \n",
       "4          0.222888           0.501019          0.254032                1   \n",
       "...             ...                ...               ...              ...   \n",
       "257083     0.711493           0.459260          0.286811                0   \n",
       "257084     0.714593           0.487362          0.276651                0   \n",
       "257085     0.712590           0.473971          0.286636                0   \n",
       "257086     0.718463           0.494628          0.260064                0   \n",
       "257087     0.709400           0.455585          0.267796                0   \n",
       "\n",
       "        RegionName_AmberValley  RegionName_Angus  RegionName_ArgyllandBute  \\\n",
       "0                            0                 0                         0   \n",
       "1                            0                 0                         0   \n",
       "2                            0                 0                         0   \n",
       "3                            0                 0                         0   \n",
       "4                            0                 0                         0   \n",
       "...                        ...               ...                       ...   \n",
       "257083                       0                 0                         0   \n",
       "257084                       0                 0                         0   \n",
       "257085                       0                 0                         0   \n",
       "257086                       0                 0                         0   \n",
       "257087                       0                 0                         0   \n",
       "\n",
       "        RegionName_Arun  RegionName_Ashfield  RegionName_Ashford  ...  \\\n",
       "0                     0                    0                   0  ...   \n",
       "1                     0                    0                   0  ...   \n",
       "2                     0                    0                   0  ...   \n",
       "3                     0                    0                   0  ...   \n",
       "4                     0                    0                   0  ...   \n",
       "...                 ...                  ...                 ...  ...   \n",
       "257083                0                    0                   0  ...   \n",
       "257084                0                    0                   0  ...   \n",
       "257085                0                    0                   0  ...   \n",
       "257086                0                    0                   0  ...   \n",
       "257087                0                    0                   0  ...   \n",
       "\n",
       "        County_YnysMôn/IsleofAnglesey  County_York  County_Yorkshire  \\\n",
       "0                                   0            0                 0   \n",
       "1                                   0            0                 0   \n",
       "2                                   0            0                 0   \n",
       "3                                   0            0                 0   \n",
       "4                                   0            0                 0   \n",
       "...                               ...          ...               ...   \n",
       "257083                              0            1                 0   \n",
       "257084                              0            1                 0   \n",
       "257085                              0            1                 0   \n",
       "257086                              0            1                 0   \n",
       "257087                              0            1                 0   \n",
       "\n",
       "        State_England  State_Scotland  State_Wales  PropertyType_Detached  \\\n",
       "0                   1               0            0                      1   \n",
       "1                   1               0            0                      1   \n",
       "2                   1               0            0                      1   \n",
       "3                   1               0            0                      1   \n",
       "4                   1               0            0                      1   \n",
       "...               ...             ...          ...                    ...   \n",
       "257083              1               0            0                      0   \n",
       "257084              1               0            0                      0   \n",
       "257085              1               0            0                      0   \n",
       "257086              1               0            0                      0   \n",
       "257087              1               0            0                      0   \n",
       "\n",
       "        PropertyType_Flat  PropertyType_Semi-Detached  PropertyType_Terraced  \n",
       "0                       0                           0                      0  \n",
       "1                       0                           0                      0  \n",
       "2                       0                           0                      0  \n",
       "3                       0                           0                      0  \n",
       "4                       0                           0                      0  \n",
       "...                   ...                         ...                    ...  \n",
       "257083                  0                           0                      1  \n",
       "257084                  0                           0                      1  \n",
       "257085                  0                           0                      1  \n",
       "257086                  0                           0                      1  \n",
       "257087                  0                           0                      1  \n",
       "\n",
       "[257088 rows x 453 columns]"
      ]
     },
     "execution_count": 19,
     "metadata": {},
     "output_type": "execute_result"
    }
   ],
   "source": [
    "x_norm"
   ]
  },
  {
   "cell_type": "code",
   "execution_count": 20,
   "id": "10a9d9a0",
   "metadata": {
    "id": "10a9d9a0"
   },
   "outputs": [],
   "source": [
    "# One-Hot Encoding for standardised data\n",
    "\n",
    "x_stand = pd.get_dummies(x_stand, columns=[\"RegionName\", \"Year\", \"Month\", \"County\", \"State\", \"PropertyType\"])\n",
    "x_stand.columns = x_stand.columns.str.replace(' ','')"
   ]
  },
  {
   "cell_type": "code",
   "execution_count": 22,
   "id": "41d7eea9",
   "metadata": {
    "colab": {
     "base_uri": "https://localhost:8080/",
     "height": 505
    },
    "id": "41d7eea9",
    "outputId": "18f9d6d6-007f-4809-8c14-0189674e6718"
   },
   "outputs": [
    {
     "data": {
      "text/html": [
       "<div>\n",
       "<style scoped>\n",
       "    .dataframe tbody tr th:only-of-type {\n",
       "        vertical-align: middle;\n",
       "    }\n",
       "\n",
       "    .dataframe tbody tr th {\n",
       "        vertical-align: top;\n",
       "    }\n",
       "\n",
       "    .dataframe thead th {\n",
       "        text-align: right;\n",
       "    }\n",
       "</style>\n",
       "<table border=\"1\" class=\"dataframe\">\n",
       "  <thead>\n",
       "    <tr style=\"text-align: right;\">\n",
       "      <th></th>\n",
       "      <th>LaggedIndex</th>\n",
       "      <th>LaggedMonthChange</th>\n",
       "      <th>LaggedYearChange</th>\n",
       "      <th>RegionName_Adur</th>\n",
       "      <th>RegionName_AmberValley</th>\n",
       "      <th>RegionName_Angus</th>\n",
       "      <th>RegionName_ArgyllandBute</th>\n",
       "      <th>RegionName_Arun</th>\n",
       "      <th>RegionName_Ashfield</th>\n",
       "      <th>RegionName_Ashford</th>\n",
       "      <th>...</th>\n",
       "      <th>County_YnysMôn/IsleofAnglesey</th>\n",
       "      <th>County_York</th>\n",
       "      <th>County_Yorkshire</th>\n",
       "      <th>State_England</th>\n",
       "      <th>State_Scotland</th>\n",
       "      <th>State_Wales</th>\n",
       "      <th>PropertyType_Detached</th>\n",
       "      <th>PropertyType_Flat</th>\n",
       "      <th>PropertyType_Semi-Detached</th>\n",
       "      <th>PropertyType_Terraced</th>\n",
       "    </tr>\n",
       "  </thead>\n",
       "  <tbody>\n",
       "    <tr>\n",
       "      <th>0</th>\n",
       "      <td>-1.615612</td>\n",
       "      <td>-0.247263</td>\n",
       "      <td>0.380438</td>\n",
       "      <td>1</td>\n",
       "      <td>0</td>\n",
       "      <td>0</td>\n",
       "      <td>0</td>\n",
       "      <td>0</td>\n",
       "      <td>0</td>\n",
       "      <td>0</td>\n",
       "      <td>...</td>\n",
       "      <td>0</td>\n",
       "      <td>0</td>\n",
       "      <td>0</td>\n",
       "      <td>1</td>\n",
       "      <td>0</td>\n",
       "      <td>0</td>\n",
       "      <td>1</td>\n",
       "      <td>0</td>\n",
       "      <td>0</td>\n",
       "      <td>0</td>\n",
       "    </tr>\n",
       "    <tr>\n",
       "      <th>1</th>\n",
       "      <td>-1.643301</td>\n",
       "      <td>-0.672575</td>\n",
       "      <td>-0.033847</td>\n",
       "      <td>1</td>\n",
       "      <td>0</td>\n",
       "      <td>0</td>\n",
       "      <td>0</td>\n",
       "      <td>0</td>\n",
       "      <td>0</td>\n",
       "      <td>0</td>\n",
       "      <td>...</td>\n",
       "      <td>0</td>\n",
       "      <td>0</td>\n",
       "      <td>0</td>\n",
       "      <td>1</td>\n",
       "      <td>0</td>\n",
       "      <td>0</td>\n",
       "      <td>1</td>\n",
       "      <td>0</td>\n",
       "      <td>0</td>\n",
       "      <td>0</td>\n",
       "    </tr>\n",
       "    <tr>\n",
       "      <th>2</th>\n",
       "      <td>-1.621884</td>\n",
       "      <td>0.214034</td>\n",
       "      <td>0.290474</td>\n",
       "      <td>1</td>\n",
       "      <td>0</td>\n",
       "      <td>0</td>\n",
       "      <td>0</td>\n",
       "      <td>0</td>\n",
       "      <td>0</td>\n",
       "      <td>0</td>\n",
       "      <td>...</td>\n",
       "      <td>0</td>\n",
       "      <td>0</td>\n",
       "      <td>0</td>\n",
       "      <td>1</td>\n",
       "      <td>0</td>\n",
       "      <td>0</td>\n",
       "      <td>1</td>\n",
       "      <td>0</td>\n",
       "      <td>0</td>\n",
       "      <td>0</td>\n",
       "    </tr>\n",
       "    <tr>\n",
       "      <th>3</th>\n",
       "      <td>-1.616942</td>\n",
       "      <td>-0.085410</td>\n",
       "      <td>0.201182</td>\n",
       "      <td>1</td>\n",
       "      <td>0</td>\n",
       "      <td>0</td>\n",
       "      <td>0</td>\n",
       "      <td>0</td>\n",
       "      <td>0</td>\n",
       "      <td>0</td>\n",
       "      <td>...</td>\n",
       "      <td>0</td>\n",
       "      <td>0</td>\n",
       "      <td>0</td>\n",
       "      <td>1</td>\n",
       "      <td>0</td>\n",
       "      <td>0</td>\n",
       "      <td>1</td>\n",
       "      <td>0</td>\n",
       "      <td>0</td>\n",
       "      <td>0</td>\n",
       "    </tr>\n",
       "    <tr>\n",
       "      <th>4</th>\n",
       "      <td>-1.586889</td>\n",
       "      <td>0.366350</td>\n",
       "      <td>0.263187</td>\n",
       "      <td>1</td>\n",
       "      <td>0</td>\n",
       "      <td>0</td>\n",
       "      <td>0</td>\n",
       "      <td>0</td>\n",
       "      <td>0</td>\n",
       "      <td>0</td>\n",
       "      <td>...</td>\n",
       "      <td>0</td>\n",
       "      <td>0</td>\n",
       "      <td>0</td>\n",
       "      <td>1</td>\n",
       "      <td>0</td>\n",
       "      <td>0</td>\n",
       "      <td>1</td>\n",
       "      <td>0</td>\n",
       "      <td>0</td>\n",
       "      <td>0</td>\n",
       "    </tr>\n",
       "    <tr>\n",
       "      <th>...</th>\n",
       "      <td>...</td>\n",
       "      <td>...</td>\n",
       "      <td>...</td>\n",
       "      <td>...</td>\n",
       "      <td>...</td>\n",
       "      <td>...</td>\n",
       "      <td>...</td>\n",
       "      <td>...</td>\n",
       "      <td>...</td>\n",
       "      <td>...</td>\n",
       "      <td>...</td>\n",
       "      <td>...</td>\n",
       "      <td>...</td>\n",
       "      <td>...</td>\n",
       "      <td>...</td>\n",
       "      <td>...</td>\n",
       "      <td>...</td>\n",
       "      <td>...</td>\n",
       "      <td>...</td>\n",
       "      <td>...</td>\n",
       "      <td>...</td>\n",
       "    </tr>\n",
       "    <tr>\n",
       "      <th>257083</th>\n",
       "      <td>2.250106</td>\n",
       "      <td>-0.669505</td>\n",
       "      <td>0.896509</td>\n",
       "      <td>0</td>\n",
       "      <td>0</td>\n",
       "      <td>0</td>\n",
       "      <td>0</td>\n",
       "      <td>0</td>\n",
       "      <td>0</td>\n",
       "      <td>0</td>\n",
       "      <td>...</td>\n",
       "      <td>0</td>\n",
       "      <td>1</td>\n",
       "      <td>0</td>\n",
       "      <td>1</td>\n",
       "      <td>0</td>\n",
       "      <td>0</td>\n",
       "      <td>0</td>\n",
       "      <td>0</td>\n",
       "      <td>0</td>\n",
       "      <td>1</td>\n",
       "    </tr>\n",
       "    <tr>\n",
       "      <th>257084</th>\n",
       "      <td>2.274454</td>\n",
       "      <td>0.027572</td>\n",
       "      <td>0.700208</td>\n",
       "      <td>0</td>\n",
       "      <td>0</td>\n",
       "      <td>0</td>\n",
       "      <td>0</td>\n",
       "      <td>0</td>\n",
       "      <td>0</td>\n",
       "      <td>0</td>\n",
       "      <td>...</td>\n",
       "      <td>0</td>\n",
       "      <td>1</td>\n",
       "      <td>0</td>\n",
       "      <td>1</td>\n",
       "      <td>0</td>\n",
       "      <td>0</td>\n",
       "      <td>0</td>\n",
       "      <td>0</td>\n",
       "      <td>0</td>\n",
       "      <td>1</td>\n",
       "    </tr>\n",
       "    <tr>\n",
       "      <th>257085</th>\n",
       "      <td>2.258722</td>\n",
       "      <td>-0.304595</td>\n",
       "      <td>0.893128</td>\n",
       "      <td>0</td>\n",
       "      <td>0</td>\n",
       "      <td>0</td>\n",
       "      <td>0</td>\n",
       "      <td>0</td>\n",
       "      <td>0</td>\n",
       "      <td>0</td>\n",
       "      <td>...</td>\n",
       "      <td>0</td>\n",
       "      <td>1</td>\n",
       "      <td>0</td>\n",
       "      <td>1</td>\n",
       "      <td>0</td>\n",
       "      <td>0</td>\n",
       "      <td>0</td>\n",
       "      <td>0</td>\n",
       "      <td>0</td>\n",
       "      <td>1</td>\n",
       "    </tr>\n",
       "    <tr>\n",
       "      <th>257086</th>\n",
       "      <td>2.304847</td>\n",
       "      <td>0.207820</td>\n",
       "      <td>0.379719</td>\n",
       "      <td>0</td>\n",
       "      <td>0</td>\n",
       "      <td>0</td>\n",
       "      <td>0</td>\n",
       "      <td>0</td>\n",
       "      <td>0</td>\n",
       "      <td>0</td>\n",
       "      <td>...</td>\n",
       "      <td>0</td>\n",
       "      <td>1</td>\n",
       "      <td>0</td>\n",
       "      <td>1</td>\n",
       "      <td>0</td>\n",
       "      <td>0</td>\n",
       "      <td>0</td>\n",
       "      <td>0</td>\n",
       "      <td>0</td>\n",
       "      <td>1</td>\n",
       "    </tr>\n",
       "    <tr>\n",
       "      <th>257087</th>\n",
       "      <td>2.233671</td>\n",
       "      <td>-0.760662</td>\n",
       "      <td>0.529105</td>\n",
       "      <td>0</td>\n",
       "      <td>0</td>\n",
       "      <td>0</td>\n",
       "      <td>0</td>\n",
       "      <td>0</td>\n",
       "      <td>0</td>\n",
       "      <td>0</td>\n",
       "      <td>...</td>\n",
       "      <td>0</td>\n",
       "      <td>1</td>\n",
       "      <td>0</td>\n",
       "      <td>1</td>\n",
       "      <td>0</td>\n",
       "      <td>0</td>\n",
       "      <td>0</td>\n",
       "      <td>0</td>\n",
       "      <td>0</td>\n",
       "      <td>1</td>\n",
       "    </tr>\n",
       "  </tbody>\n",
       "</table>\n",
       "<p>257088 rows × 453 columns</p>\n",
       "</div>"
      ],
      "text/plain": [
       "        LaggedIndex  LaggedMonthChange  LaggedYearChange  RegionName_Adur  \\\n",
       "0         -1.615612          -0.247263          0.380438                1   \n",
       "1         -1.643301          -0.672575         -0.033847                1   \n",
       "2         -1.621884           0.214034          0.290474                1   \n",
       "3         -1.616942          -0.085410          0.201182                1   \n",
       "4         -1.586889           0.366350          0.263187                1   \n",
       "...             ...                ...               ...              ...   \n",
       "257083     2.250106          -0.669505          0.896509                0   \n",
       "257084     2.274454           0.027572          0.700208                0   \n",
       "257085     2.258722          -0.304595          0.893128                0   \n",
       "257086     2.304847           0.207820          0.379719                0   \n",
       "257087     2.233671          -0.760662          0.529105                0   \n",
       "\n",
       "        RegionName_AmberValley  RegionName_Angus  RegionName_ArgyllandBute  \\\n",
       "0                            0                 0                         0   \n",
       "1                            0                 0                         0   \n",
       "2                            0                 0                         0   \n",
       "3                            0                 0                         0   \n",
       "4                            0                 0                         0   \n",
       "...                        ...               ...                       ...   \n",
       "257083                       0                 0                         0   \n",
       "257084                       0                 0                         0   \n",
       "257085                       0                 0                         0   \n",
       "257086                       0                 0                         0   \n",
       "257087                       0                 0                         0   \n",
       "\n",
       "        RegionName_Arun  RegionName_Ashfield  RegionName_Ashford  ...  \\\n",
       "0                     0                    0                   0  ...   \n",
       "1                     0                    0                   0  ...   \n",
       "2                     0                    0                   0  ...   \n",
       "3                     0                    0                   0  ...   \n",
       "4                     0                    0                   0  ...   \n",
       "...                 ...                  ...                 ...  ...   \n",
       "257083                0                    0                   0  ...   \n",
       "257084                0                    0                   0  ...   \n",
       "257085                0                    0                   0  ...   \n",
       "257086                0                    0                   0  ...   \n",
       "257087                0                    0                   0  ...   \n",
       "\n",
       "        County_YnysMôn/IsleofAnglesey  County_York  County_Yorkshire  \\\n",
       "0                                   0            0                 0   \n",
       "1                                   0            0                 0   \n",
       "2                                   0            0                 0   \n",
       "3                                   0            0                 0   \n",
       "4                                   0            0                 0   \n",
       "...                               ...          ...               ...   \n",
       "257083                              0            1                 0   \n",
       "257084                              0            1                 0   \n",
       "257085                              0            1                 0   \n",
       "257086                              0            1                 0   \n",
       "257087                              0            1                 0   \n",
       "\n",
       "        State_England  State_Scotland  State_Wales  PropertyType_Detached  \\\n",
       "0                   1               0            0                      1   \n",
       "1                   1               0            0                      1   \n",
       "2                   1               0            0                      1   \n",
       "3                   1               0            0                      1   \n",
       "4                   1               0            0                      1   \n",
       "...               ...             ...          ...                    ...   \n",
       "257083              1               0            0                      0   \n",
       "257084              1               0            0                      0   \n",
       "257085              1               0            0                      0   \n",
       "257086              1               0            0                      0   \n",
       "257087              1               0            0                      0   \n",
       "\n",
       "        PropertyType_Flat  PropertyType_Semi-Detached  PropertyType_Terraced  \n",
       "0                       0                           0                      0  \n",
       "1                       0                           0                      0  \n",
       "2                       0                           0                      0  \n",
       "3                       0                           0                      0  \n",
       "4                       0                           0                      0  \n",
       "...                   ...                         ...                    ...  \n",
       "257083                  0                           0                      1  \n",
       "257084                  0                           0                      1  \n",
       "257085                  0                           0                      1  \n",
       "257086                  0                           0                      1  \n",
       "257087                  0                           0                      1  \n",
       "\n",
       "[257088 rows x 453 columns]"
      ]
     },
     "execution_count": 22,
     "metadata": {},
     "output_type": "execute_result"
    }
   ],
   "source": [
    "x_stand"
   ]
  },
  {
   "cell_type": "markdown",
   "id": "4a9b7336",
   "metadata": {
    "id": "4a9b7336"
   },
   "source": [
    "## Principal Component Analysis"
   ]
  },
  {
   "cell_type": "markdown",
   "id": "cdc55693",
   "metadata": {
    "id": "cdc55693"
   },
   "source": [
    "> Feature extraction will be done using PCA in order to decrease dimensionality of the data and provide the best possible model for model implementation"
   ]
  },
  {
   "cell_type": "markdown",
   "id": "d1f8e511",
   "metadata": {
    "id": "d1f8e511"
   },
   "source": [
    "> The number of components to be used (k value) boils down to the lowest number of features in the dataset that accounts for the highest amount of variation. A threshold is usually set, and the variation is calculated using a metric called Explained variance."
   ]
  },
  {
   "cell_type": "code",
   "execution_count": 23,
   "id": "b54132e6",
   "metadata": {
    "colab": {
     "base_uri": "https://localhost:8080/"
    },
    "id": "b54132e6",
    "outputId": "19c8fa0d-2350-498b-d9e9-95ec1d0e2575",
    "scrolled": true
   },
   "outputs": [
    {
     "name": "stdout",
     "output_type": "stream",
     "text": [
      "At least 95% of the variation in the dataset can be explained by 222 feature(s).\n"
     ]
    }
   ],
   "source": [
    "x_stand_pca = selectPC(x_stand, 0.95)"
   ]
  },
  {
   "cell_type": "code",
   "execution_count": 24,
   "id": "8df4caa9",
   "metadata": {
    "colab": {
     "base_uri": "https://localhost:8080/"
    },
    "id": "8df4caa9",
    "outputId": "0b981e1a-84ef-4372-835b-6d2dbc0b7e2c",
    "scrolled": true
   },
   "outputs": [
    {
     "name": "stdout",
     "output_type": "stream",
     "text": [
      "At least 95% of the variation in the dataset can be explained by 266 feature(s).\n"
     ]
    }
   ],
   "source": [
    "x_norm_pca = selectPC(x_norm, 0.95)"
   ]
  },
  {
   "cell_type": "markdown",
   "id": "543ab54e",
   "metadata": {
    "id": "543ab54e"
   },
   "source": [
    "## Splitting the data"
   ]
  },
  {
   "cell_type": "markdown",
   "id": "de8b001f",
   "metadata": {
    "id": "de8b001f"
   },
   "source": [
    "> Independent Variable no PCA"
   ]
  },
  {
   "cell_type": "code",
   "execution_count": 25,
   "id": "2d0253c2",
   "metadata": {
    "id": "2d0253c2"
   },
   "outputs": [],
   "source": [
    "x_norm_train, x_norm_test, x_stand_train, x_stand_test= train_test_split(x_norm, x_stand, random_state=26, train_size= 0.8)"
   ]
  },
  {
   "cell_type": "code",
   "execution_count": 26,
   "id": "rCXh6DZii-af",
   "metadata": {
    "id": "rCXh6DZii-af"
   },
   "outputs": [],
   "source": [
    "# ntri = x_norm_train.index\n",
    "# ntei = x_norm_test.index\n",
    "# stri = x_stand_train.index\n",
    "# stei = x_stand_test.index"
   ]
  },
  {
   "cell_type": "code",
   "execution_count": 27,
   "id": "5cGUnpo0jdDk",
   "metadata": {
    "id": "5cGUnpo0jdDk"
   },
   "outputs": [],
   "source": [
    "# print(sum(ntri!=stri))\n",
    "# print(sum(ntei!=stei))"
   ]
  },
  {
   "cell_type": "markdown",
   "id": "cdbe96cf",
   "metadata": {
    "id": "cdbe96cf"
   },
   "source": [
    "> Independent Variable PCA"
   ]
  },
  {
   "cell_type": "code",
   "execution_count": 26,
   "id": "b19880ae",
   "metadata": {
    "id": "b19880ae"
   },
   "outputs": [],
   "source": [
    "x_norm_pca_train, x_norm_pca_test, x_stand_pca_train, x_stand_pca_test = train_test_split(x_norm_pca, x_stand_pca,\n",
    "                                                                                          random_state=26, train_size= 0.8)"
   ]
  },
  {
   "cell_type": "markdown",
   "id": "e426f760",
   "metadata": {
    "id": "e426f760"
   },
   "source": [
    "> Dependent Variable"
   ]
  },
  {
   "cell_type": "code",
   "execution_count": 27,
   "id": "29c3cd72",
   "metadata": {
    "id": "29c3cd72"
   },
   "outputs": [],
   "source": [
    "y_train, y_test = train_test_split(y, random_state=26, train_size = 0.8)"
   ]
  },
  {
   "cell_type": "markdown",
   "id": "H_CfPQUxjbEv",
   "metadata": {
    "id": "H_CfPQUxjbEv"
   },
   "source": [
    "## Getting the range of average price values"
   ]
  },
  {
   "cell_type": "code",
   "execution_count": 30,
   "id": "nfgJDpAylU_e",
   "metadata": {
    "colab": {
     "base_uri": "https://localhost:8080/"
    },
    "id": "nfgJDpAylU_e",
    "outputId": "96f00b56-80f3-42df-f88d-15552c46c53d"
   },
   "outputs": [],
   "source": [
    "# ytri = y_train.index\n",
    "# ytei = y_test.index\n",
    "# # print(sum(ntri!=ytri))\n",
    "# # print(sum(ntei!=ytei))\n",
    "# ytei"
   ]
  },
  {
   "cell_type": "code",
   "execution_count": 28,
   "id": "bfd2df41",
   "metadata": {},
   "outputs": [],
   "source": [
    "test_indices = y_test.index"
   ]
  },
  {
   "cell_type": "code",
   "execution_count": 29,
   "id": "S_FIb4NtntHV",
   "metadata": {
    "id": "S_FIb4NtntHV"
   },
   "outputs": [],
   "source": [
    "test_values = pd.concat([y_test,dates_regions.loc[test_indices][[\"PropertyType\", \"County\", \"Year\"]]], axis = 1) # The average prices, property types, years, and counties for the\n",
    "                                                                                                            #test indices are stored here."
   ]
  },
  {
   "cell_type": "code",
   "execution_count": 30,
   "id": "c1_mBDzahvJf",
   "metadata": {
    "colab": {
     "base_uri": "https://localhost:8080/",
     "height": 424
    },
    "id": "c1_mBDzahvJf",
    "outputId": "156be9ce-c704-40d0-b335-8b8a0a0adbb2"
   },
   "outputs": [
    {
     "data": {
      "text/html": [
       "<div>\n",
       "<style scoped>\n",
       "    .dataframe tbody tr th:only-of-type {\n",
       "        vertical-align: middle;\n",
       "    }\n",
       "\n",
       "    .dataframe tbody tr th {\n",
       "        vertical-align: top;\n",
       "    }\n",
       "\n",
       "    .dataframe thead th {\n",
       "        text-align: right;\n",
       "    }\n",
       "</style>\n",
       "<table border=\"1\" class=\"dataframe\">\n",
       "  <thead>\n",
       "    <tr style=\"text-align: right;\">\n",
       "      <th></th>\n",
       "      <th>AvgPrice</th>\n",
       "      <th>PropertyType</th>\n",
       "      <th>County</th>\n",
       "      <th>Year</th>\n",
       "    </tr>\n",
       "  </thead>\n",
       "  <tbody>\n",
       "    <tr>\n",
       "      <th>246216</th>\n",
       "      <td>102278.65380</td>\n",
       "      <td>Terraced</td>\n",
       "      <td>Greater Manchester</td>\n",
       "      <td>2018</td>\n",
       "    </tr>\n",
       "    <tr>\n",
       "      <th>12090</th>\n",
       "      <td>241996.90830</td>\n",
       "      <td>Semi-Detached</td>\n",
       "      <td>Bath and North East Somerset</td>\n",
       "      <td>2008</td>\n",
       "    </tr>\n",
       "    <tr>\n",
       "      <th>174508</th>\n",
       "      <td>268410.20240</td>\n",
       "      <td>Semi-Detached</td>\n",
       "      <td>Lancashire</td>\n",
       "      <td>2023</td>\n",
       "    </tr>\n",
       "    <tr>\n",
       "      <th>242535</th>\n",
       "      <td>115511.45660</td>\n",
       "      <td>Semi-Detached</td>\n",
       "      <td>West Lothian</td>\n",
       "      <td>2006</td>\n",
       "    </tr>\n",
       "    <tr>\n",
       "      <th>207641</th>\n",
       "      <td>196058.19860</td>\n",
       "      <td>Semi-Detached</td>\n",
       "      <td>Gloucestershire</td>\n",
       "      <td>2010</td>\n",
       "    </tr>\n",
       "    <tr>\n",
       "      <th>...</th>\n",
       "      <td>...</td>\n",
       "      <td>...</td>\n",
       "      <td>...</td>\n",
       "      <td>...</td>\n",
       "    </tr>\n",
       "    <tr>\n",
       "      <th>170085</th>\n",
       "      <td>295410.01430</td>\n",
       "      <td>Flat</td>\n",
       "      <td>Greater London</td>\n",
       "      <td>2018</td>\n",
       "    </tr>\n",
       "    <tr>\n",
       "      <th>122274</th>\n",
       "      <td>486964.10360</td>\n",
       "      <td>Terraced</td>\n",
       "      <td>Greater London</td>\n",
       "      <td>2020</td>\n",
       "    </tr>\n",
       "    <tr>\n",
       "      <th>135388</th>\n",
       "      <td>256869.65017</td>\n",
       "      <td>Semi-Detached</td>\n",
       "      <td>Greater Manchester</td>\n",
       "      <td>2021</td>\n",
       "    </tr>\n",
       "    <tr>\n",
       "      <th>54952</th>\n",
       "      <td>226319.90040</td>\n",
       "      <td>Detached</td>\n",
       "      <td>Swansea</td>\n",
       "      <td>2009</td>\n",
       "    </tr>\n",
       "    <tr>\n",
       "      <th>103848</th>\n",
       "      <td>225898.15270</td>\n",
       "      <td>Terraced</td>\n",
       "      <td>Hampshire</td>\n",
       "      <td>2010</td>\n",
       "    </tr>\n",
       "  </tbody>\n",
       "</table>\n",
       "<p>51418 rows × 4 columns</p>\n",
       "</div>"
      ],
      "text/plain": [
       "            AvgPrice   PropertyType                        County  Year\n",
       "246216  102278.65380       Terraced            Greater Manchester  2018\n",
       "12090   241996.90830  Semi-Detached  Bath and North East Somerset  2008\n",
       "174508  268410.20240  Semi-Detached                    Lancashire  2023\n",
       "242535  115511.45660  Semi-Detached                  West Lothian  2006\n",
       "207641  196058.19860  Semi-Detached               Gloucestershire  2010\n",
       "...              ...            ...                           ...   ...\n",
       "170085  295410.01430           Flat                Greater London  2018\n",
       "122274  486964.10360       Terraced                Greater London  2020\n",
       "135388  256869.65017  Semi-Detached            Greater Manchester  2021\n",
       "54952   226319.90040       Detached                       Swansea  2009\n",
       "103848  225898.15270       Terraced                     Hampshire  2010\n",
       "\n",
       "[51418 rows x 4 columns]"
      ]
     },
     "execution_count": 30,
     "metadata": {},
     "output_type": "execute_result"
    }
   ],
   "source": [
    "test_values"
   ]
  },
  {
   "cell_type": "code",
   "execution_count": 30,
   "id": "bqlZCcvOr5zk",
   "metadata": {
    "id": "bqlZCcvOr5zk"
   },
   "outputs": [],
   "source": [
    "test_ranges = test_values.groupby([\"PropertyType\", \"County\", \"Year\"])[\"AvgPrice\"].apply(lambda x: x.max() - x.min()) #Calculating the difference between the max and min price\n",
    "                                                                                                          #for each property type, region and year using anon function."
   ]
  },
  {
   "cell_type": "code",
   "execution_count": 32,
   "id": "aoWHc9yk53Dc",
   "metadata": {
    "colab": {
     "base_uri": "https://localhost:8080/"
    },
    "id": "aoWHc9yk53Dc",
    "outputId": "0b3d7966-679b-4090-e434-f5800f2de554"
   },
   "outputs": [
    {
     "data": {
      "text/plain": [
       "PropertyType  County         Year\n",
       "Detached      Aberdeenshire  2006    12651.98100\n",
       "                             2007    52241.40640\n",
       "                             2008        0.00000\n",
       "                             2009        0.00000\n",
       "                             2010    23000.08730\n",
       "                                        ...     \n",
       "Terraced      Yorkshire      2019    60106.40136\n",
       "                             2020    59456.65044\n",
       "                             2021    65897.44379\n",
       "                             2022    85354.55353\n",
       "                             2023    63751.71070\n",
       "Name: AvgPrice, Length: 7005, dtype: float64"
      ]
     },
     "execution_count": 32,
     "metadata": {},
     "output_type": "execute_result"
    }
   ],
   "source": [
    "test_ranges"
   ]
  },
  {
   "cell_type": "code",
   "execution_count": 36,
   "id": "Zvlqa6TauvtW",
   "metadata": {
    "colab": {
     "base_uri": "https://localhost:8080/"
    },
    "id": "Zvlqa6TauvtW",
    "outputId": "30fd5420-7cea-48dd-c861-7824484130d9"
   },
   "outputs": [
    {
     "data": {
      "text/plain": [
       "4183930.95694"
      ]
     },
     "execution_count": 36,
     "metadata": {},
     "output_type": "execute_result"
    }
   ],
   "source": [
    "max(test_ranges)"
   ]
  },
  {
   "cell_type": "code",
   "execution_count": 37,
   "id": "xkbhZ_u8uzT1",
   "metadata": {
    "colab": {
     "base_uri": "https://localhost:8080/"
    },
    "id": "xkbhZ_u8uzT1",
    "outputId": "20810b15-77fa-44ed-90c6-136f7e32ff4d"
   },
   "outputs": [
    {
     "data": {
      "text/plain": [
       "0.0"
      ]
     },
     "execution_count": 37,
     "metadata": {},
     "output_type": "execute_result"
    }
   ],
   "source": [
    "min(test_ranges)"
   ]
  },
  {
   "cell_type": "code",
   "execution_count": 38,
   "id": "hiAOWHVk7YUu",
   "metadata": {
    "colab": {
     "base_uri": "https://localhost:8080/"
    },
    "id": "hiAOWHVk7YUu",
    "outputId": "372212af-6658-4402-c740-4010c11df75e"
   },
   "outputs": [
    {
     "data": {
      "text/plain": [
       "1113"
      ]
     },
     "execution_count": 38,
     "metadata": {},
     "output_type": "execute_result"
    }
   ],
   "source": [
    "len(test_ranges[test_ranges==0.0])"
   ]
  },
  {
   "cell_type": "code",
   "execution_count": 39,
   "id": "oX_ucIQk6WuZ",
   "metadata": {
    "colab": {
     "base_uri": "https://localhost:8080/"
    },
    "id": "oX_ucIQk6WuZ",
    "outputId": "72007d5c-d7f3-4231-e710-efc27bf60c0d"
   },
   "outputs": [
    {
     "name": "stdout",
     "output_type": "stream",
     "text": [
      "PropertyType  County                       Year\n",
      "Detached      Aberdeenshire                2008    0.0\n",
      "                                           2009    0.0\n",
      "                                           2014    0.0\n",
      "                                           2015    0.0\n",
      "                                           2017    0.0\n",
      "                                                  ... \n",
      "Terraced      Ynys Môn / Isle of Anglesey  2017    0.0\n",
      "              York                         2009    0.0\n",
      "                                           2017    0.0\n",
      "                                           2020    0.0\n",
      "                                           2021    0.0\n",
      "Name: AvgPrice, Length: 1113, dtype: float64\n"
     ]
    }
   ],
   "source": [
    "print(test_ranges[test_ranges==0.0])"
   ]
  },
  {
   "cell_type": "code",
   "execution_count": 40,
   "id": "JTMjLjI6tiC7",
   "metadata": {
    "colab": {
     "base_uri": "https://localhost:8080/"
    },
    "id": "JTMjLjI6tiC7",
    "outputId": "9d8c7f24-fe8c-474f-bbe7-0e42a0426b44"
   },
   "outputs": [],
   "source": [
    "# mean_price_range = np.mean(test_ranges)\n",
    "# mean_price_range\n",
    "# Output from RegionName version: 9144.76592994589"
   ]
  },
  {
   "cell_type": "code",
   "execution_count": 31,
   "id": "f4ebcc9f",
   "metadata": {},
   "outputs": [
    {
     "data": {
      "text/plain": [
       "64726.36311172485"
      ]
     },
     "execution_count": 31,
     "metadata": {},
     "output_type": "execute_result"
    }
   ],
   "source": [
    "mean_price_range = np.mean(test_ranges)\n",
    "mean_price_range"
   ]
  },
  {
   "cell_type": "code",
   "execution_count": 42,
   "id": "1y7PzZEUs79V",
   "metadata": {
    "colab": {
     "base_uri": "https://localhost:8080/"
    },
    "id": "1y7PzZEUs79V",
    "outputId": "3a9d6531-dfa5-4741-9dbc-e20a565ba53d",
    "scrolled": true
   },
   "outputs": [
    {
     "data": {
      "text/plain": [
       "4579712.688949999"
      ]
     },
     "execution_count": 42,
     "metadata": {},
     "output_type": "execute_result"
    }
   ],
   "source": [
    "test_values[\"AvgPrice\"].max() - test_values[\"AvgPrice\"].min()"
   ]
  },
  {
   "cell_type": "markdown",
   "id": "YMoHoslzvMGC",
   "metadata": {
    "id": "YMoHoslzvMGC"
   },
   "source": [
    "> The range of values is much smaller and will give more accurate valuations"
   ]
  },
  {
   "cell_type": "markdown",
   "id": "17a8169c",
   "metadata": {
    "id": "17a8169c"
   },
   "source": [
    "# Model Implementation"
   ]
  },
  {
   "cell_type": "markdown",
   "id": "bc9a1753",
   "metadata": {
    "id": "bc9a1753"
   },
   "source": [
    "> Converting the data to numpy arrays"
   ]
  },
  {
   "cell_type": "code",
   "execution_count": 32,
   "id": "75f86b44",
   "metadata": {
    "id": "75f86b44"
   },
   "outputs": [],
   "source": [
    "x_norm_train = x_norm_train.values\n",
    "x_norm_test = x_norm_test.values\n",
    "x_stand_train = x_stand_train.values\n",
    "x_stand_test = x_stand_test.values\n",
    "y_train = y_train.values.ravel()\n",
    "y_test = y_test.values.ravel()"
   ]
  },
  {
   "cell_type": "markdown",
   "id": "d5a5b25e",
   "metadata": {
    "id": "d5a5b25e"
   },
   "source": [
    "> Five models will be used in this analysis, and k fold cross validation will be used on them in order to tune the hyperparameters, select the superior scaling method, and ultimately reduce the bias and improve the performance of the models."
   ]
  },
  {
   "cell_type": "markdown",
   "id": "ba8a8c5e",
   "metadata": {
    "id": "ba8a8c5e"
   },
   "source": [
    "## Linear Regression"
   ]
  },
  {
   "cell_type": "markdown",
   "id": "3aa217ff",
   "metadata": {
    "id": "3aa217ff"
   },
   "source": [
    "> A model is created and k-fold cross-validation is carried out on all 4 x values"
   ]
  },
  {
   "cell_type": "code",
   "execution_count": 33,
   "id": "554999c9",
   "metadata": {
    "id": "554999c9"
   },
   "outputs": [],
   "source": [
    "lm = LinearRegression()"
   ]
  },
  {
   "cell_type": "code",
   "execution_count": 34,
   "id": "91994fb9",
   "metadata": {
    "colab": {
     "base_uri": "https://localhost:8080/",
     "height": 442
    },
    "id": "91994fb9",
    "outputId": "625e640d-2c8c-4979-8b08-ffb8671d7f86",
    "scrolled": false
   },
   "outputs": [
    {
     "name": "stdout",
     "output_type": "stream",
     "text": [
      "Cross-Validated Root Mean Squared Error: 140740.4978020758\n"
     ]
    },
    {
     "data": {
      "image/png": "[encoded data removed]",
      "text/plain": [
       "<Figure size 1000x400 with 2 Axes>"
      ]
     },
     "metadata": {},
     "output_type": "display_data"
    }
   ],
   "source": [
    "# Normalized, PCA\n",
    "# Label Encoding Cross-Validated Root Mean Squared Error: 254576.37633494884\n",
    "crossval(lm, x_norm_pca_train, y_train, k=10)"
   ]
  },
  {
   "cell_type": "code",
   "execution_count": null,
   "id": "wWR387RS-ACb",
   "metadata": {
    "colab": {
     "background_save": true
    },
    "id": "wWR387RS-ACb",
    "outputId": "7e80b683-5d0c-47f7-8364-545dacdfc2c9"
   },
   "outputs": [
    {
     "data": {
      "text/plain": [
       "0.03098469521657251"
      ]
     },
     "execution_count": 31,
     "metadata": {},
     "output_type": "execute_result"
    }
   ],
   "source": [
    "141995.10016728425/(max(y_train)-min(y_train))"
   ]
  },
  {
   "cell_type": "code",
   "execution_count": 35,
   "id": "6a7da7e5",
   "metadata": {
    "colab": {
     "base_uri": "https://localhost:8080/",
     "height": 442
    },
    "id": "6a7da7e5",
    "outputId": "0281eb7f-8458-4dc8-df2e-7e000182e7d8",
    "scrolled": false
   },
   "outputs": [
    {
     "name": "stdout",
     "output_type": "stream",
     "text": [
      "Cross-Validated Root Mean Squared Error: 103428.25784760411\n"
     ]
    },
    {
     "data": {
      "image/png": "[encoded data removed]",
      "text/plain": [
       "<Figure size 1000x400 with 2 Axes>"
      ]
     },
     "metadata": {},
     "output_type": "display_data"
    }
   ],
   "source": [
    "# Normalized, No PCA\n",
    "\n",
    "crossval(lm, x_norm_train, y_train, k=10)"
   ]
  },
  {
   "cell_type": "code",
   "execution_count": 36,
   "id": "60f2f3c7",
   "metadata": {
    "colab": {
     "base_uri": "https://localhost:8080/",
     "height": 442
    },
    "id": "60f2f3c7",
    "outputId": "5db43f7e-bb3f-4e1e-9c9e-5acb4a783357"
   },
   "outputs": [
    {
     "name": "stdout",
     "output_type": "stream",
     "text": [
      "Cross-Validated Root Mean Squared Error: 162801.0059257073\n"
     ]
    },
    {
     "data": {
      "image/png": "[encoded data removed]",
      "text/plain": [
       "<Figure size 1000x400 with 2 Axes>"
      ]
     },
     "metadata": {},
     "output_type": "display_data"
    }
   ],
   "source": [
    "# Standardized, PCA\n",
    "\n",
    "crossval(lm, x_stand_pca_train, y_train, k=10)"
   ]
  },
  {
   "cell_type": "code",
   "execution_count": 37,
   "id": "76c13998",
   "metadata": {
    "colab": {
     "base_uri": "https://localhost:8080/",
     "height": 442
    },
    "id": "76c13998",
    "outputId": "1651e41a-683a-4181-f4a8-0c1eb09bd508"
   },
   "outputs": [
    {
     "name": "stdout",
     "output_type": "stream",
     "text": [
      "Cross-Validated Root Mean Squared Error: 103428.92003894968\n"
     ]
    },
    {
     "data": {
      "image/png": "[encoded data removed]",
      "text/plain": [
       "<Figure size 1000x400 with 2 Axes>"
      ]
     },
     "metadata": {},
     "output_type": "display_data"
    }
   ],
   "source": [
    "# Standardized, No PCA\n",
    "\n",
    "crossval(lm, x_stand_train, y_train, k=10)"
   ]
  },
  {
   "cell_type": "markdown",
   "id": "13dfee11",
   "metadata": {
    "id": "13dfee11"
   },
   "source": [
    "> Next, the linear model is fitted to each of the training datasets, and the RMSE and R-squared score are calculated.."
   ]
  },
  {
   "cell_type": "markdown",
   "id": "7d7ac172",
   "metadata": {
    "id": "7d7ac172"
   },
   "source": [
    ">The R-Squared (R2) Score tests the goodness of fit of the model to the data, and how well the independent variables (x) capture the variability of the dependent variable (y)"
   ]
  },
  {
   "cell_type": "code",
   "execution_count": 34,
   "id": "ca36e3cb",
   "metadata": {},
   "outputs": [
    {
     "name": "stdout",
     "output_type": "stream",
     "text": [
      "Linear Regression on Normalised data, no PCA\n",
      "RMSE: 102387.33504582454; NRMSE: 1.5818490352855559; R2: 0.836365109157364\n"
     ]
    },
    {
     "data": {
      "image/png": "[encoded data removed]",
      "text/plain": [
       "<Figure size 1000x400 with 2 Axes>"
      ]
     },
     "metadata": {},
     "output_type": "display_data"
    },
    {
     "name": "stdout",
     "output_type": "stream",
     "text": [
      "Time elapsed: 5.986788749694824 seconds\n"
     ]
    }
   ],
   "source": [
    "from Implementation import LR_Model\n",
    "print(\"Linear Regression on Normalised data, no PCA\")\n",
    "start = time.time()\n",
    "LR_Model(x_norm_train, y_train, x_norm_test, y_test, ytest_range=mean_price_range)\n",
    "end = time.time()\n",
    "print(f\"Time elapsed: {end-start} seconds\")"
   ]
  },
  {
   "cell_type": "code",
   "execution_count": 40,
   "id": "QIMq0K7PCW3J",
   "metadata": {
    "colab": {
     "base_uri": "https://localhost:8080/",
     "height": 459
    },
    "id": "QIMq0K7PCW3J",
    "outputId": "c992d4d9-2c72-4ff0-bda0-faf525d5a65e"
   },
   "outputs": [
    {
     "name": "stdout",
     "output_type": "stream",
     "text": [
      "Linear Regression on Normalised data, PCA applied\n",
      "RMSE: 138223.4659809196; NRMSE: 2.1355049061281357; R2: 0.7017729791315899\n"
     ]
    },
    {
     "data": {
      "image/png": "[encoded data removed]",
      "text/plain": [
       "<Figure size 1000x400 with 2 Axes>"
      ]
     },
     "metadata": {},
     "output_type": "display_data"
    },
    {
     "name": "stdout",
     "output_type": "stream",
     "text": [
      "Time elapsed: 3.6971468925476074 seconds\n"
     ]
    }
   ],
   "source": [
    "print(\"Linear Regression on Normalised data, PCA applied\")\n",
    "start = time.time()\n",
    "LR_Model(x_norm_pca_train, y_train, x_norm_pca_test, y_test, ytest_range=mean_price_range)\n",
    "end = time.time()\n",
    "print(f\"Time elapsed: {end-start} seconds\")"
   ]
  },
  {
   "cell_type": "code",
   "execution_count": 36,
   "id": "brBPllKLCWyo",
   "metadata": {
    "colab": {
     "base_uri": "https://localhost:8080/",
     "height": 459
    },
    "id": "brBPllKLCWyo",
    "outputId": "d46deff3-5ed5-415c-e2fe-3e2b15bd1c3c"
   },
   "outputs": [
    {
     "name": "stdout",
     "output_type": "stream",
     "text": [
      "Linear Regression on Standardised data, no PCA\n",
      "RMSE: 102386.23593724245; NRMSE: 1.5818320544368065; R2: 0.8363686223174132\n"
     ]
    },
    {
     "data": {
      "image/png": "[encoded data removed]",
      "text/plain": [
       "<Figure size 1000x400 with 2 Axes>"
      ]
     },
     "metadata": {},
     "output_type": "display_data"
    },
    {
     "name": "stdout",
     "output_type": "stream",
     "text": [
      "Time elapsed: 5.689612627029419 seconds\n"
     ]
    }
   ],
   "source": [
    "print(\"Linear Regression on Standardised data, no PCA\")\n",
    "start = time.time()\n",
    "LR_Model(x_stand_train, y_train, x_stand_test, y_test, ytest_range=mean_price_range)\n",
    "end = time.time()\n",
    "print(f\"Time elapsed: {end-start} seconds\")"
   ]
  },
  {
   "cell_type": "code",
   "execution_count": 41,
   "id": "V7MoOM7yCWqi",
   "metadata": {
    "colab": {
     "base_uri": "https://localhost:8080/",
     "height": 459
    },
    "id": "V7MoOM7yCWqi",
    "outputId": "7a637605-f116-4109-a99f-d27a7de04375"
   },
   "outputs": [
    {
     "name": "stdout",
     "output_type": "stream",
     "text": [
      "Linear Regression on Standardised data, PCA applied\n",
      "RMSE: 159319.4077454595; NRMSE: 2.4614299349780646; R2: 0.6037942270537179\n"
     ]
    },
    {
     "data": {
      "image/png": "[encoded data removed]",
      "text/plain": [
       "<Figure size 1000x400 with 2 Axes>"
      ]
     },
     "metadata": {},
     "output_type": "display_data"
    },
    {
     "name": "stdout",
     "output_type": "stream",
     "text": [
      "Time elapsed: 2.7653069496154785 seconds\n"
     ]
    }
   ],
   "source": [
    "print(\"Linear Regression on Standardised data, PCA applied\")\n",
    "start = time.time()\n",
    "LR_Model(x_stand_pca_train, y_train, x_stand_pca_test, y_test, ytest_range=mean_price_range)\n",
    "end = time.time()\n",
    "print(f\"Time elapsed: {end-start} seconds\")"
   ]
  },
  {
   "cell_type": "markdown",
   "id": "a7d77b18",
   "metadata": {
    "id": "a7d77b18"
   },
   "source": [
    "## Multilayer Perceptron (MLP)"
   ]
  },
  {
   "cell_type": "markdown",
   "id": "7ea53d8d",
   "metadata": {
    "id": "7ea53d8d"
   },
   "source": [
    "### Two hidden layers"
   ]
  },
  {
   "cell_type": "markdown",
   "id": "7644a4d7",
   "metadata": {
    "id": "7644a4d7"
   },
   "source": [
    ">NP2 = Normalized, PCA, 2 layers. >N2 = Normalized, 2 layers. SP2 = Standardized, PCA, 2 layers. S2 = Standardized, 2 layers."
   ]
  },
  {
   "cell_type": "code",
   "execution_count": 42,
   "id": "0FwxmVBYFWnP",
   "metadata": {
    "colab": {
     "base_uri": "https://localhost:8080/"
    },
    "id": "0FwxmVBYFWnP",
    "outputId": "8747ef03-956a-4f33-d0e8-5759fb6a315d"
   },
   "outputs": [
    {
     "name": "stdout",
     "output_type": "stream",
     "text": [
      "Epoch 1/10\n",
      "5142/5142 - 18s - loss: 24207589376.0000 - val_loss: 7845226496.0000 - 18s/epoch - 3ms/step\n",
      "Epoch 2/10\n",
      "5142/5142 - 17s - loss: 4167543808.0000 - val_loss: 2181159168.0000 - 17s/epoch - 3ms/step\n",
      "Epoch 3/10\n",
      "5142/5142 - 17s - loss: 1492467456.0000 - val_loss: 1024327872.0000 - 17s/epoch - 3ms/step\n",
      "Epoch 4/10\n",
      "5142/5142 - 17s - loss: 890684224.0000 - val_loss: 760028224.0000 - 17s/epoch - 3ms/step\n",
      "Epoch 5/10\n",
      "5142/5142 - 16s - loss: 679504704.0000 - val_loss: 567282304.0000 - 16s/epoch - 3ms/step\n",
      "Epoch 6/10\n",
      "5142/5142 - 16s - loss: 524871616.0000 - val_loss: 474922880.0000 - 16s/epoch - 3ms/step\n",
      "Epoch 7/10\n",
      "5142/5142 - 16s - loss: 403802176.0000 - val_loss: 345449184.0000 - 16s/epoch - 3ms/step\n",
      "Epoch 8/10\n",
      "5142/5142 - 16s - loss: 309915328.0000 - val_loss: 262639232.0000 - 16s/epoch - 3ms/step\n",
      "Epoch 9/10\n",
      "5142/5142 - 16s - loss: 236852832.0000 - val_loss: 204064176.0000 - 16s/epoch - 3ms/step\n",
      "Epoch 10/10\n",
      "5142/5142 - 16s - loss: 197480208.0000 - val_loss: 198530912.0000 - 16s/epoch - 3ms/step\n",
      "1607/1607 [==============================] - 4s 2ms/step\n",
      "RMSE: 13530.916716248863; NRMSE: 0.20904799938925978; R2: 0.9971421602376676\n",
      "Time elapsed: 170.89886236190796 seconds\n"
     ]
    }
   ],
   "source": [
    "start = time.time()\n",
    "MLP_NP2 = MLPModel(x_norm_pca_train, y_train, x_norm_pca_test, y_test, hidden_layer_size=(70,30), epochs=10, \n",
    "                   ytest_range=mean_price_range)\n",
    "end = time.time()\n",
    "print(f\"Time elapsed: {end-start} seconds\")"
   ]
  },
  {
   "cell_type": "code",
   "execution_count": 44,
   "id": "59c4fdec",
   "metadata": {},
   "outputs": [
    {
     "name": "stdout",
     "output_type": "stream",
     "text": [
      "Epoch 1/10\n",
      "5142/5142 - 28s - loss: 19941697536.0000 - val_loss: 2087476352.0000 - 28s/epoch - 5ms/step\n",
      "Epoch 2/10\n",
      "5142/5142 - 27s - loss: 1222894336.0000 - val_loss: 881518656.0000 - 27s/epoch - 5ms/step\n",
      "Epoch 3/10\n",
      "5142/5142 - 27s - loss: 786367808.0000 - val_loss: 695988608.0000 - 27s/epoch - 5ms/step\n",
      "Epoch 4/10\n",
      "5142/5142 - 27s - loss: 577843008.0000 - val_loss: 564944000.0000 - 27s/epoch - 5ms/step\n",
      "Epoch 5/10\n",
      "5142/5142 - 27s - loss: 413222048.0000 - val_loss: 375715744.0000 - 27s/epoch - 5ms/step\n",
      "Epoch 6/10\n",
      "5142/5142 - 27s - loss: 279753120.0000 - val_loss: 225018288.0000 - 27s/epoch - 5ms/step\n",
      "Epoch 7/10\n",
      "5142/5142 - 27s - loss: 199275216.0000 - val_loss: 180918160.0000 - 27s/epoch - 5ms/step\n",
      "Epoch 8/10\n",
      "5142/5142 - 27s - loss: 154559648.0000 - val_loss: 160609792.0000 - 27s/epoch - 5ms/step\n",
      "Epoch 9/10\n",
      "5142/5142 - 28s - loss: 131712848.0000 - val_loss: 129264584.0000 - 28s/epoch - 5ms/step\n",
      "Epoch 10/10\n",
      "5142/5142 - 27s - loss: 120104776.0000 - val_loss: 115233696.0000 - 27s/epoch - 5ms/step\n",
      "1607/1607 [==============================] - 3s 2ms/step\n",
      "RMSE: 10184.157014549788; NRMSE: 0.15734171556913848; R2: 0.9983810493686672\n",
      "Time elapsed: 276.52529287338257 seconds\n"
     ]
    }
   ],
   "source": [
    "start = time.time()\n",
    "MLP_N2 = MLPModel(x_norm_train, y_train, x_norm_test, y_test, hidden_layer_size=(120,50), epochs=10, \n",
    "                   ytest_range=mean_price_range)\n",
    "end = time.time()\n",
    "print(f\"Time elapsed: {end-start} seconds\")"
   ]
  },
  {
   "cell_type": "code",
   "execution_count": 43,
   "id": "hHbuFVGnmVIR",
   "metadata": {
    "colab": {
     "base_uri": "https://localhost:8080/"
    },
    "id": "hHbuFVGnmVIR",
    "outputId": "cd9c4d72-18e5-4098-abfb-0467447c57f4"
   },
   "outputs": [
    {
     "name": "stdout",
     "output_type": "stream",
     "text": [
      "Epoch 1/10\n",
      "5142/5142 - 17s - loss: 31358316544.0000 - val_loss: 15690869760.0000 - 17s/epoch - 3ms/step\n",
      "Epoch 2/10\n",
      "5142/5142 - 17s - loss: 9256568832.0000 - val_loss: 5071000064.0000 - 17s/epoch - 3ms/step\n",
      "Epoch 3/10\n",
      "5142/5142 - 17s - loss: 3360496128.0000 - val_loss: 2205424896.0000 - 17s/epoch - 3ms/step\n",
      "Epoch 4/10\n",
      "5142/5142 - 16s - loss: 1576412416.0000 - val_loss: 1154318208.0000 - 16s/epoch - 3ms/step\n",
      "Epoch 5/10\n",
      "5142/5142 - 16s - loss: 846051392.0000 - val_loss: 668227584.0000 - 16s/epoch - 3ms/step\n",
      "Epoch 6/10\n",
      "5142/5142 - 16s - loss: 571643648.0000 - val_loss: 465542240.0000 - 16s/epoch - 3ms/step\n",
      "Epoch 7/10\n",
      "5142/5142 - 16s - loss: 409217920.0000 - val_loss: 326273376.0000 - 16s/epoch - 3ms/step\n",
      "Epoch 8/10\n",
      "5142/5142 - 17s - loss: 287931872.0000 - val_loss: 226153408.0000 - 17s/epoch - 3ms/step\n",
      "Epoch 9/10\n",
      "5142/5142 - 17s - loss: 197865616.0000 - val_loss: 152985056.0000 - 17s/epoch - 3ms/step\n",
      "Epoch 10/10\n",
      "5142/5142 - 15s - loss: 145534880.0000 - val_loss: 118403024.0000 - 15s/epoch - 3ms/step\n",
      "1607/1607 [==============================] - 4s 2ms/step\n",
      "RMSE: 10482.750289684653; NRMSE: 0.16195487874995027; R2: 0.9982847243844455\n",
      "Time elapsed: 167.6911973953247 seconds\n"
     ]
    }
   ],
   "source": [
    "start = time.time()\n",
    "MLP_SP2 = MLPModel(x_stand_pca_train, y_train, x_stand_pca_test, y_test, hidden_layer_size=(70,30), epochs=10, \n",
    "                   ytest_range=mean_price_range)\n",
    "end = time.time()\n",
    "print(f\"Time elapsed: {end-start} seconds\")"
   ]
  },
  {
   "cell_type": "code",
   "execution_count": 47,
   "id": "60d3e854",
   "metadata": {},
   "outputs": [
    {
     "name": "stdout",
     "output_type": "stream",
     "text": [
      "Epoch 1/10\n",
      "5142/5142 - 66s - loss: 19059980288.0000 - val_loss: 1733767040.0000 - 66s/epoch - 13ms/step\n",
      "Epoch 2/10\n",
      "5142/5142 - 63s - loss: 983399744.0000 - val_loss: 637836160.0000 - 63s/epoch - 12ms/step\n",
      "Epoch 3/10\n",
      "5142/5142 - 62s - loss: 578277760.0000 - val_loss: 487498368.0000 - 62s/epoch - 12ms/step\n",
      "Epoch 4/10\n",
      "5142/5142 - 62s - loss: 385080416.0000 - val_loss: 344750144.0000 - 62s/epoch - 12ms/step\n",
      "Epoch 5/10\n",
      "5142/5142 - 63s - loss: 226416608.0000 - val_loss: 162556240.0000 - 63s/epoch - 12ms/step\n",
      "Epoch 6/10\n",
      "5142/5142 - 62s - loss: 133377088.0000 - val_loss: 94764200.0000 - 62s/epoch - 12ms/step\n",
      "Epoch 7/10\n",
      "5142/5142 - 64s - loss: 100097264.0000 - val_loss: 81241528.0000 - 64s/epoch - 13ms/step\n",
      "Epoch 8/10\n",
      "5142/5142 - 64s - loss: 86909416.0000 - val_loss: 94896872.0000 - 64s/epoch - 12ms/step\n",
      "Epoch 9/10\n",
      "5142/5142 - 64s - loss: 80861608.0000 - val_loss: 76965224.0000 - 64s/epoch - 12ms/step\n",
      "Epoch 10/10\n",
      "5142/5142 - 57s - loss: 75457024.0000 - val_loss: 75468376.0000 - 57s/epoch - 11ms/step\n",
      "1607/1607 [==============================] - 6s 4ms/step\n",
      "RMSE: 8946.26207708027; NRMSE: 0.13821666546655856; R2: 0.9987507002139838\n",
      "Time elapsed: 634.563863992691 seconds\n"
     ]
    }
   ],
   "source": [
    "start = time.time()\n",
    "MLP_S2 = MLPModel(x_stand_train, y_train, x_stand_test, y_test, hidden_layer_size=(150,50), epochs=10, \n",
    "                   ytest_range=mean_price_range)\n",
    "end = time.time()\n",
    "print(f\"Time elapsed: {end-start} seconds\")"
   ]
  },
  {
   "cell_type": "markdown",
   "id": "jtedE80Gfq6C",
   "metadata": {
    "id": "jtedE80Gfq6C"
   },
   "source": [
    "### Three Hidden Layers"
   ]
  },
  {
   "cell_type": "markdown",
   "id": "cWEXVxrxfpZ9",
   "metadata": {
    "id": "cWEXVxrxfpZ9"
   },
   "source": [
    "> NP3 = Normalized, PCA, 3 layers. N3 = Normalized, 3 layers. SP3 = Standardized, PCA, 3 layers. S3 = Standardized, 3 layers."
   ]
  },
  {
   "cell_type": "code",
   "execution_count": 45,
   "id": "UK8toTDO0RoJ",
   "metadata": {
    "colab": {
     "base_uri": "https://localhost:8080/"
    },
    "id": "UK8toTDO0RoJ",
    "outputId": "90ecd3bd-060e-4435-d119-16a2bc93e753"
   },
   "outputs": [
    {
     "name": "stdout",
     "output_type": "stream",
     "text": [
      "Epoch 1/10\n",
      "5142/5142 - 16s - loss: 11411707904.0000 - val_loss: 1269736960.0000 - 16s/epoch - 3ms/step\n",
      "Epoch 2/10\n",
      "5142/5142 - 15s - loss: 926876416.0000 - val_loss: 920777472.0000 - 15s/epoch - 3ms/step\n",
      "Epoch 3/10\n",
      "5142/5142 - 16s - loss: 496569024.0000 - val_loss: 375183168.0000 - 16s/epoch - 3ms/step\n",
      "Epoch 4/10\n",
      "5142/5142 - 15s - loss: 311063808.0000 - val_loss: 300571232.0000 - 15s/epoch - 3ms/step\n",
      "Epoch 5/10\n",
      "5142/5142 - 16s - loss: 247332480.0000 - val_loss: 278337760.0000 - 16s/epoch - 3ms/step\n",
      "Epoch 6/10\n",
      "5142/5142 - 16s - loss: 211153920.0000 - val_loss: 218582000.0000 - 16s/epoch - 3ms/step\n",
      "Epoch 7/10\n",
      "5142/5142 - 16s - loss: 190026848.0000 - val_loss: 268361888.0000 - 16s/epoch - 3ms/step\n",
      "Epoch 8/10\n",
      "5142/5142 - 16s - loss: 177075280.0000 - val_loss: 374198848.0000 - 16s/epoch - 3ms/step\n",
      "Epoch 9/10\n",
      "5142/5142 - 16s - loss: 161382768.0000 - val_loss: 114630048.0000 - 16s/epoch - 3ms/step\n",
      "Epoch 10/10\n",
      "5142/5142 - 16s - loss: 152744848.0000 - val_loss: 116432376.0000 - 16s/epoch - 3ms/step\n",
      "1607/1607 [==============================] - 4s 2ms/step\n",
      "RMSE: 10867.645874852304; NRMSE: 0.16790138287383066; R2: 0.9981564522562788\n",
      "Time elapsed: 162.4046859741211 seconds\n"
     ]
    }
   ],
   "source": [
    "start = time.time()\n",
    "MLP_NP3 = MLPModel(x_norm_pca_train, y_train, x_norm_pca_test, y_test, hidden_layer_size=(150,75,35), epochs=10, \n",
    "                   ytest_range=mean_price_range)\n",
    "end = time.time()\n",
    "print(f\"Time elapsed: {end-start} seconds\")"
   ]
  },
  {
   "cell_type": "code",
   "execution_count": 53,
   "id": "45ef193e",
   "metadata": {},
   "outputs": [
    {
     "name": "stdout",
     "output_type": "stream",
     "text": [
      "Epoch 1/10\n",
      "5142/5142 - 37s - loss: 9713048576.0000 - val_loss: 813396992.0000 - 37s/epoch - 7ms/step\n",
      "Epoch 2/10\n",
      "5142/5142 - 34s - loss: 646158144.0000 - val_loss: 499738304.0000 - 34s/epoch - 7ms/step\n",
      "Epoch 3/10\n",
      "5142/5142 - 35s - loss: 335787904.0000 - val_loss: 627216320.0000 - 35s/epoch - 7ms/step\n",
      "Epoch 4/10\n",
      "5142/5142 - 36s - loss: 212114304.0000 - val_loss: 168224224.0000 - 36s/epoch - 7ms/step\n",
      "Epoch 5/10\n",
      "5142/5142 - 34s - loss: 169766288.0000 - val_loss: 145517008.0000 - 34s/epoch - 7ms/step\n",
      "Epoch 6/10\n",
      "5142/5142 - 35s - loss: 144896480.0000 - val_loss: 139277360.0000 - 35s/epoch - 7ms/step\n",
      "Epoch 7/10\n",
      "5142/5142 - 36s - loss: 134659536.0000 - val_loss: 126012376.0000 - 36s/epoch - 7ms/step\n",
      "Epoch 8/10\n",
      "5142/5142 - 37s - loss: 114850592.0000 - val_loss: 109560872.0000 - 37s/epoch - 7ms/step\n",
      "Epoch 9/10\n",
      "5142/5142 - 35s - loss: 110859408.0000 - val_loss: 113718904.0000 - 35s/epoch - 7ms/step\n",
      "Epoch 10/10\n",
      "5142/5142 - 34s - loss: 96652520.0000 - val_loss: 87802008.0000 - 34s/epoch - 7ms/step\n",
      "1607/1607 [==============================] - 6s 3ms/step\n",
      "RMSE: 9496.556235996835; NRMSE: 0.1467185205447853; R2: 0.9985922818136836\n",
      "Time elapsed: 360.1747546195984 seconds\n"
     ]
    }
   ],
   "source": [
    "start = time.time()\n",
    "MLP_N3 = MLPModel(x_norm_train, y_train, x_norm_test, y_test, hidden_layer_size=(200,100,50), epochs=10, \n",
    "                   ytest_range=mean_price_range)\n",
    "end = time.time()\n",
    "print(f\"Time elapsed: {end-start} seconds\")"
   ]
  },
  {
   "cell_type": "code",
   "execution_count": 46,
   "id": "qZokbO0qfpZ_",
   "metadata": {
    "colab": {
     "base_uri": "https://localhost:8080/"
    },
    "id": "qZokbO0qfpZ_",
    "outputId": "a25e6388-7cf3-4b49-b4ff-7fde0c34b99d"
   },
   "outputs": [
    {
     "name": "stdout",
     "output_type": "stream",
     "text": [
      "Epoch 1/10\n",
      "5142/5142 - 20s - loss: 13521748992.0000 - val_loss: 1569081600.0000 - 20s/epoch - 4ms/step\n",
      "Epoch 2/10\n",
      "5142/5142 - 16s - loss: 923248128.0000 - val_loss: 548654336.0000 - 16s/epoch - 3ms/step\n",
      "Epoch 3/10\n",
      "5142/5142 - 18s - loss: 367928992.0000 - val_loss: 340247456.0000 - 18s/epoch - 4ms/step\n",
      "Epoch 4/10\n",
      "5142/5142 - 23s - loss: 241639200.0000 - val_loss: 219986656.0000 - 23s/epoch - 5ms/step\n",
      "Epoch 5/10\n",
      "5142/5142 - 18s - loss: 215262656.0000 - val_loss: 150666320.0000 - 18s/epoch - 3ms/step\n",
      "Epoch 6/10\n",
      "5142/5142 - 16s - loss: 199443872.0000 - val_loss: 129959464.0000 - 16s/epoch - 3ms/step\n",
      "Epoch 7/10\n",
      "5142/5142 - 17s - loss: 178692880.0000 - val_loss: 127435264.0000 - 17s/epoch - 3ms/step\n",
      "Epoch 8/10\n",
      "5142/5142 - 16s - loss: 158353120.0000 - val_loss: 136493024.0000 - 16s/epoch - 3ms/step\n",
      "Epoch 9/10\n",
      "5142/5142 - 16s - loss: 167863920.0000 - val_loss: 195042560.0000 - 16s/epoch - 3ms/step\n",
      "Epoch 10/10\n",
      "5142/5142 - 16s - loss: 162017120.0000 - val_loss: 126597672.0000 - 16s/epoch - 3ms/step\n",
      "1607/1607 [==============================] - 4s 2ms/step\n",
      "RMSE: 10929.8867496707; NRMSE: 0.16886298293640428; R2: 0.9981352751577547\n",
      "Time elapsed: 181.6112082004547 seconds\n"
     ]
    }
   ],
   "source": [
    "start = time.time()\n",
    "MLP_SP3 = MLPModel(x_stand_pca_train, y_train, x_stand_pca_test, y_test, hidden_layer_size=(200,100,50), epochs=10, \n",
    "                   ytest_range=mean_price_range)\n",
    "end = time.time()\n",
    "print(f\"Time elapsed: {end-start} seconds\")"
   ]
  },
  {
   "cell_type": "code",
   "execution_count": 54,
   "id": "a5c4d96b",
   "metadata": {},
   "outputs": [
    {
     "name": "stdout",
     "output_type": "stream",
     "text": [
      "Epoch 1/10\n",
      "5142/5142 - 33s - loss: 10127351808.0000 - val_loss: 698178048.0000 - 33s/epoch - 7ms/step\n",
      "Epoch 2/10\n",
      "5142/5142 - 32s - loss: 520866720.0000 - val_loss: 317257504.0000 - 32s/epoch - 6ms/step\n",
      "Epoch 3/10\n",
      "5142/5142 - 33s - loss: 210854928.0000 - val_loss: 149963968.0000 - 33s/epoch - 6ms/step\n",
      "Epoch 4/10\n",
      "5142/5142 - 32s - loss: 146386464.0000 - val_loss: 219589360.0000 - 32s/epoch - 6ms/step\n",
      "Epoch 5/10\n",
      "5142/5142 - 32s - loss: 123553976.0000 - val_loss: 100434384.0000 - 32s/epoch - 6ms/step\n",
      "Epoch 6/10\n",
      "5142/5142 - 33s - loss: 118326504.0000 - val_loss: 161562960.0000 - 33s/epoch - 6ms/step\n",
      "Epoch 7/10\n",
      "5142/5142 - 32s - loss: 109571464.0000 - val_loss: 83247584.0000 - 32s/epoch - 6ms/step\n",
      "Epoch 8/10\n",
      "5142/5142 - 32s - loss: 106593296.0000 - val_loss: 117573608.0000 - 32s/epoch - 6ms/step\n",
      "Epoch 9/10\n",
      "5142/5142 - 32s - loss: 100095440.0000 - val_loss: 84067656.0000 - 32s/epoch - 6ms/step\n",
      "Epoch 10/10\n",
      "5142/5142 - 33s - loss: 95070600.0000 - val_loss: 77401552.0000 - 33s/epoch - 6ms/step\n",
      "1607/1607 [==============================] - 5s 3ms/step\n",
      "RMSE: 8525.83919874386; NRMSE: 0.13172127690887436; R2: 0.9988653609993577\n",
      "Time elapsed: 329.6914939880371 seconds\n"
     ]
    }
   ],
   "source": [
    "start = time.time()\n",
    "MLP_S3 = MLPModel(x_stand_train, y_train, x_stand_test, y_test, hidden_layer_size=(200,75,40), epochs=10, \n",
    "                   ytest_range=mean_price_range)\n",
    "end = time.time()\n",
    "print(f\"Time elapsed: {end-start} seconds\")"
   ]
  },
  {
   "cell_type": "markdown",
   "id": "tLIEsbjgu1Mt",
   "metadata": {
    "id": "tLIEsbjgu1Mt"
   },
   "source": [
    "### Five Hidden Layers"
   ]
  },
  {
   "cell_type": "markdown",
   "id": "r7VCw1-Ou1Mu",
   "metadata": {
    "id": "r7VCw1-Ou1Mu"
   },
   "source": [
    "> NP5 = Normalized, PCA, 5 layers. >N3 = Normalized, 5 layers. SP5 = Standardized, PCA, 5 layers. S5 = Standardized, 5 layers."
   ]
  },
  {
   "cell_type": "code",
   "execution_count": 49,
   "id": "IA55HMuWu1Mv",
   "metadata": {
    "colab": {
     "base_uri": "https://localhost:8080/"
    },
    "id": "IA55HMuWu1Mv",
    "outputId": "b5b72ab3-6703-4707-c0da-3c8710d32e62"
   },
   "outputs": [
    {
     "name": "stdout",
     "output_type": "stream",
     "text": [
      "Epoch 1/10\n",
      "5142/5142 - 27s - loss: 5530664960.0000 - val_loss: 674544448.0000 - 27s/epoch - 5ms/step\n",
      "Epoch 2/10\n",
      "5142/5142 - 25s - loss: 662915456.0000 - val_loss: 567122944.0000 - 25s/epoch - 5ms/step\n",
      "Epoch 3/10\n",
      "5142/5142 - 24s - loss: 526815104.0000 - val_loss: 305197088.0000 - 24s/epoch - 5ms/step\n",
      "Epoch 4/10\n",
      "5142/5142 - 25s - loss: 427751360.0000 - val_loss: 259814464.0000 - 25s/epoch - 5ms/step\n",
      "Epoch 5/10\n",
      "5142/5142 - 24s - loss: 422733760.0000 - val_loss: 278429728.0000 - 24s/epoch - 5ms/step\n",
      "Epoch 6/10\n",
      "5142/5142 - 25s - loss: 334138496.0000 - val_loss: 263004368.0000 - 25s/epoch - 5ms/step\n",
      "Epoch 7/10\n",
      "5142/5142 - 26s - loss: 333545504.0000 - val_loss: 183088032.0000 - 26s/epoch - 5ms/step\n",
      "Epoch 8/10\n",
      "5142/5142 - 29s - loss: 279870336.0000 - val_loss: 254635904.0000 - 29s/epoch - 6ms/step\n",
      "Epoch 9/10\n",
      "5142/5142 - 26s - loss: 290914208.0000 - val_loss: 154202416.0000 - 26s/epoch - 5ms/step\n",
      "Epoch 10/10\n",
      "5142/5142 - 26s - loss: 238782480.0000 - val_loss: 160013936.0000 - 26s/epoch - 5ms/step\n",
      "1607/1607 [==============================] - 5s 3ms/step\n",
      "RMSE: 12279.208691810616; NRMSE: 0.18970954185414907; R2: 0.9976464458571471\n",
      "Time elapsed: 262.45486545562744 seconds\n"
     ]
    }
   ],
   "source": [
    "start = time.time()\n",
    "MLP_NP5 = MLPModel(x_norm_pca_train, y_train, x_norm_pca_test, y_test, hidden_layer_size=(180,150,100,75,35), epochs=10, \n",
    "                   ytest_range=mean_price_range)\n",
    "end = time.time()\n",
    "print(f\"Time elapsed: {end-start} seconds\")"
   ]
  },
  {
   "cell_type": "code",
   "execution_count": 52,
   "id": "bd99d4be",
   "metadata": {},
   "outputs": [
    {
     "name": "stdout",
     "output_type": "stream",
     "text": [
      "Epoch 1/10\n",
      "5142/5142 - 39s - loss: 4431375872.0000 - val_loss: 456289984.0000 - 39s/epoch - 8ms/step\n",
      "Epoch 2/10\n",
      "5142/5142 - 35s - loss: 432267296.0000 - val_loss: 267951056.0000 - 35s/epoch - 7ms/step\n",
      "Epoch 3/10\n",
      "5142/5142 - 39s - loss: 327707392.0000 - val_loss: 226960080.0000 - 39s/epoch - 8ms/step\n",
      "Epoch 4/10\n",
      "5142/5142 - 34s - loss: 294525184.0000 - val_loss: 418644352.0000 - 34s/epoch - 7ms/step\n",
      "Epoch 5/10\n",
      "5142/5142 - 38s - loss: 242061088.0000 - val_loss: 313782624.0000 - 38s/epoch - 7ms/step\n",
      "Epoch 6/10\n",
      "5142/5142 - 34s - loss: 209420240.0000 - val_loss: 101580472.0000 - 34s/epoch - 7ms/step\n",
      "Epoch 7/10\n",
      "5142/5142 - 39s - loss: 214603104.0000 - val_loss: 191921344.0000 - 39s/epoch - 8ms/step\n",
      "Epoch 8/10\n",
      "5142/5142 - 39s - loss: 180440960.0000 - val_loss: 103579232.0000 - 39s/epoch - 8ms/step\n",
      "Epoch 9/10\n",
      "5142/5142 - 41s - loss: 164216560.0000 - val_loss: 293154272.0000 - 41s/epoch - 8ms/step\n",
      "Epoch 10/10\n",
      "5142/5142 - 42s - loss: 178263104.0000 - val_loss: 141064384.0000 - 42s/epoch - 8ms/step\n",
      "1607/1607 [==============================] - 6s 4ms/step\n",
      "RMSE: 11940.256380958614; NRMSE: 0.18447284548258044; R2: 0.997774586405605\n",
      "Time elapsed: 387.99430418014526 seconds\n"
     ]
    }
   ],
   "source": [
    "start = time.time()\n",
    "MLP_N5 = MLPModel(x_norm_train, y_train, x_norm_test, y_test, hidden_layer_size=(200,170,120,80,55), epochs=10, \n",
    "                   ytest_range=mean_price_range)\n",
    "end = time.time()\n",
    "print(f\"Time elapsed: {end-start} seconds\")"
   ]
  },
  {
   "cell_type": "code",
   "execution_count": 50,
   "id": "bdb32796",
   "metadata": {},
   "outputs": [
    {
     "name": "stdout",
     "output_type": "stream",
     "text": [
      "Epoch 1/10\n",
      "5142/5142 - 24s - loss: 7585932288.0000 - val_loss: 655538368.0000 - 24s/epoch - 5ms/step\n",
      "Epoch 2/10\n",
      "5142/5142 - 21s - loss: 625450688.0000 - val_loss: 450757152.0000 - 21s/epoch - 4ms/step\n",
      "Epoch 3/10\n",
      "5142/5142 - 22s - loss: 492568096.0000 - val_loss: 197305168.0000 - 22s/epoch - 4ms/step\n",
      "Epoch 4/10\n",
      "5142/5142 - 23s - loss: 382343968.0000 - val_loss: 355515136.0000 - 23s/epoch - 4ms/step\n",
      "Epoch 5/10\n",
      "5142/5142 - 22s - loss: 340231136.0000 - val_loss: 210606640.0000 - 22s/epoch - 4ms/step\n",
      "Epoch 6/10\n",
      "5142/5142 - 23s - loss: 310270560.0000 - val_loss: 137704112.0000 - 23s/epoch - 4ms/step\n",
      "Epoch 7/10\n",
      "5142/5142 - 22s - loss: 291182848.0000 - val_loss: 228473664.0000 - 22s/epoch - 4ms/step\n",
      "Epoch 8/10\n",
      "5142/5142 - 22s - loss: 286212352.0000 - val_loss: 197312384.0000 - 22s/epoch - 4ms/step\n",
      "Epoch 9/10\n",
      "5142/5142 - 22s - loss: 249475440.0000 - val_loss: 251391344.0000 - 22s/epoch - 4ms/step\n",
      "Epoch 10/10\n",
      "5142/5142 - 22s - loss: 250666912.0000 - val_loss: 231854112.0000 - 22s/epoch - 4ms/step\n",
      "1607/1607 [==============================] - 5s 3ms/step\n",
      "RMSE: 14382.859802578518; NRMSE: 0.22221022642276553; R2: 0.9967709562673985\n",
      "Time elapsed: 228.190007686615 seconds\n"
     ]
    }
   ],
   "source": [
    "start = time.time()\n",
    "MLP_SP5 = MLPModel(x_stand_pca_train, y_train, x_stand_pca_test, y_test, hidden_layer_size=(180,150,100,75,35), epochs=10, \n",
    "                   ytest_range=mean_price_range)\n",
    "end = time.time()\n",
    "print(f\"Time elapsed: {end-start} seconds\")"
   ]
  },
  {
   "cell_type": "code",
   "execution_count": 51,
   "id": "159f3a74",
   "metadata": {},
   "outputs": [
    {
     "name": "stdout",
     "output_type": "stream",
     "text": [
      "Epoch 1/10\n",
      "5142/5142 - 48s - loss: 5422254592.0000 - val_loss: 432528096.0000 - 48s/epoch - 9ms/step\n",
      "Epoch 2/10\n",
      "5142/5142 - 39s - loss: 384178880.0000 - val_loss: 341775264.0000 - 39s/epoch - 8ms/step\n",
      "Epoch 3/10\n",
      "5142/5142 - 41s - loss: 300479936.0000 - val_loss: 125833952.0000 - 41s/epoch - 8ms/step\n",
      "Epoch 4/10\n",
      "5142/5142 - 42s - loss: 278373568.0000 - val_loss: 149516272.0000 - 42s/epoch - 8ms/step\n",
      "Epoch 5/10\n",
      "5142/5142 - 41s - loss: 227986208.0000 - val_loss: 140885680.0000 - 41s/epoch - 8ms/step\n",
      "Epoch 6/10\n",
      "5142/5142 - 42s - loss: 238332480.0000 - val_loss: 233153776.0000 - 42s/epoch - 8ms/step\n",
      "Epoch 7/10\n",
      "5142/5142 - 42s - loss: 211824352.0000 - val_loss: 136113888.0000 - 42s/epoch - 8ms/step\n",
      "Epoch 8/10\n",
      "5142/5142 - 42s - loss: 206021712.0000 - val_loss: 222832848.0000 - 42s/epoch - 8ms/step\n",
      "Epoch 9/10\n",
      "5142/5142 - 41s - loss: 172720752.0000 - val_loss: 249767616.0000 - 41s/epoch - 8ms/step\n",
      "Epoch 10/10\n",
      "5142/5142 - 42s - loss: 163399264.0000 - val_loss: 98892512.0000 - 42s/epoch - 8ms/step\n",
      "1607/1607 [==============================] - 5s 3ms/step\n",
      "RMSE: 9965.843774799956; NRMSE: 0.15396885126386306; R2: 0.9984497148667477\n",
      "Time elapsed: 426.17111253738403 seconds\n"
     ]
    }
   ],
   "source": [
    "start = time.time()\n",
    "MLP_S5 = MLPModel(x_stand_train, y_train, x_stand_test, y_test, hidden_layer_size=(200,170,120,80,55), epochs=10, \n",
    "                   ytest_range=mean_price_range)\n",
    "end = time.time()\n",
    "print(f\"Time elapsed: {end-start} seconds\")"
   ]
  },
  {
   "cell_type": "markdown",
   "id": "47796f15",
   "metadata": {
    "id": "47796f15"
   },
   "source": [
    "## RMLP"
   ]
  },
  {
   "cell_type": "markdown",
   "id": "111954f6",
   "metadata": {},
   "source": [
    "### Two Layers"
   ]
  },
  {
   "cell_type": "code",
   "execution_count": 55,
   "id": "a7e16243",
   "metadata": {
    "id": "a7e16243"
   },
   "outputs": [
    {
     "name": "stdout",
     "output_type": "stream",
     "text": [
      "Epoch 1/10\n",
      "5142/5142 - 52s - loss: 19152349184.0000 - val_loss: 4260886016.0000 - 52s/epoch - 10ms/step\n",
      "Epoch 2/10\n",
      "5142/5142 - 51s - loss: 2159683072.0000 - val_loss: 1145848576.0000 - 51s/epoch - 10ms/step\n",
      "Epoch 3/10\n",
      "5142/5142 - 49s - loss: 888664768.0000 - val_loss: 677566080.0000 - 49s/epoch - 10ms/step\n",
      "Epoch 4/10\n",
      "5142/5142 - 50s - loss: 616090624.0000 - val_loss: 520788352.0000 - 50s/epoch - 10ms/step\n",
      "Epoch 5/10\n",
      "5142/5142 - 50s - loss: 433884160.0000 - val_loss: 342049024.0000 - 50s/epoch - 10ms/step\n",
      "Epoch 6/10\n",
      "5142/5142 - 50s - loss: 308762784.0000 - val_loss: 300894208.0000 - 50s/epoch - 10ms/step\n",
      "Epoch 7/10\n",
      "5142/5142 - 50s - loss: 231567872.0000 - val_loss: 235691808.0000 - 50s/epoch - 10ms/step\n",
      "Epoch 8/10\n",
      "5142/5142 - 50s - loss: 189891296.0000 - val_loss: 166320240.0000 - 50s/epoch - 10ms/step\n",
      "Epoch 9/10\n",
      "5142/5142 - 49s - loss: 172810880.0000 - val_loss: 240218656.0000 - 49s/epoch - 10ms/step\n",
      "Epoch 10/10\n",
      "5142/5142 - 51s - loss: 155140624.0000 - val_loss: 160528656.0000 - 51s/epoch - 10ms/step\n",
      "1607/1607 [==============================] - 9s 5ms/step\n",
      "RMSE: 12406.994155476308; NRMSE: 0.19168378322230875; R2: 0.9975972057284915\n",
      "Time elapsed: 513.5210950374603 seconds\n"
     ]
    }
   ],
   "source": [
    "start = time.time()\n",
    "RMLP_NP2 = RMLPModel(x_norm_pca_train, y_train, x_norm_pca_test, y_test, hidden_layer_size=(200,100), epochs=10, \n",
    "                   ytest_range=mean_price_range)\n",
    "end = time.time()\n",
    "print(f\"Time elapsed: {end-start} seconds\")\n",
    "\n",
    "# 70,30\n",
    "#RMSE: 22762.370302426185; NRMSE: 2.4891145904442924; R2: 0.9919124235109923\n",
    "# Time elapsed: 95.92452621459961 seconds"
   ]
  },
  {
   "cell_type": "code",
   "execution_count": 59,
   "id": "6f55df8a",
   "metadata": {
    "colab": {
     "base_uri": "https://localhost:8080/"
    },
    "id": "IcCcwaybmBrq",
    "outputId": "62ab6d6a-f06e-4db5-89b4-44b0b3b6aed0",
    "scrolled": false
   },
   "outputs": [
    {
     "name": "stdout",
     "output_type": "stream",
     "text": [
      "Epoch 1/10\n",
      "5142/5142 - 80s - loss: 21302775808.0000 - val_loss: 2449931008.0000 - 80s/epoch - 16ms/step\n",
      "Epoch 2/10\n",
      "5142/5142 - 78s - loss: 1328095104.0000 - val_loss: 895276416.0000 - 78s/epoch - 15ms/step\n",
      "Epoch 3/10\n",
      "5142/5142 - 71s - loss: 825239488.0000 - val_loss: 678419200.0000 - 71s/epoch - 14ms/step\n",
      "Epoch 4/10\n",
      "5142/5142 - 79s - loss: 624822144.0000 - val_loss: 520384288.0000 - 79s/epoch - 15ms/step\n",
      "Epoch 5/10\n",
      "5142/5142 - 77s - loss: 467149312.0000 - val_loss: 422145920.0000 - 77s/epoch - 15ms/step\n",
      "Epoch 6/10\n",
      "5142/5142 - 77s - loss: 337688416.0000 - val_loss: 314458400.0000 - 77s/epoch - 15ms/step\n",
      "Epoch 7/10\n",
      "5142/5142 - 78s - loss: 241167024.0000 - val_loss: 194258256.0000 - 78s/epoch - 15ms/step\n",
      "Epoch 8/10\n",
      "5142/5142 - 79s - loss: 178210864.0000 - val_loss: 151502064.0000 - 79s/epoch - 15ms/step\n",
      "Epoch 9/10\n",
      "5142/5142 - 79s - loss: 144239344.0000 - val_loss: 135522352.0000 - 79s/epoch - 15ms/step\n",
      "Epoch 10/10\n",
      "5142/5142 - 81s - loss: 126648792.0000 - val_loss: 121352544.0000 - 81s/epoch - 16ms/step\n",
      "1607/1607 [==============================] - 13s 8ms/step\n",
      "RMSE: 10526.63508327888; NRMSE: 0.16263288368463935; R2: 0.9982703327261137\n",
      "Time elapsed: 793.9800083637238 seconds\n"
     ]
    }
   ],
   "source": [
    "start = time.time()\n",
    "RMLP_N2 = RMLPModel(x_norm_train, y_train, x_norm_test, y_test, hidden_layer_size=(200,100), epochs=10, \n",
    "                   ytest_range=mean_price_range)\n",
    "end = time.time()\n",
    "print(f\"Time elapsed: {end-start} seconds\")"
   ]
  },
  {
   "cell_type": "code",
   "execution_count": 56,
   "id": "271ce17d",
   "metadata": {
    "colab": {
     "base_uri": "https://localhost:8080/"
    },
    "id": "hHbuFVGnmVIR",
    "outputId": "cd9c4d72-18e5-4098-abfb-0467447c57f4"
   },
   "outputs": [
    {
     "name": "stdout",
     "output_type": "stream",
     "text": [
      "Epoch 1/10\n",
      "5142/5142 - 48s - loss: 24967364608.0000 - val_loss: 8936178688.0000 - 48s/epoch - 9ms/step\n",
      "Epoch 2/10\n",
      "5142/5142 - 46s - loss: 4540482560.0000 - val_loss: 2234160640.0000 - 46s/epoch - 9ms/step\n",
      "Epoch 3/10\n",
      "5142/5142 - 46s - loss: 1437984256.0000 - val_loss: 1151533568.0000 - 46s/epoch - 9ms/step\n",
      "Epoch 4/10\n",
      "5142/5142 - 46s - loss: 683184192.0000 - val_loss: 548781568.0000 - 46s/epoch - 9ms/step\n",
      "Epoch 5/10\n",
      "5142/5142 - 45s - loss: 411958816.0000 - val_loss: 278998848.0000 - 45s/epoch - 9ms/step\n",
      "Epoch 6/10\n",
      "5142/5142 - 46s - loss: 241589168.0000 - val_loss: 177421664.0000 - 46s/epoch - 9ms/step\n",
      "Epoch 7/10\n",
      "5142/5142 - 45s - loss: 170834000.0000 - val_loss: 130978256.0000 - 45s/epoch - 9ms/step\n",
      "Epoch 8/10\n",
      "5142/5142 - 46s - loss: 132756152.0000 - val_loss: 111150864.0000 - 46s/epoch - 9ms/step\n",
      "Epoch 9/10\n",
      "5142/5142 - 47s - loss: 118724552.0000 - val_loss: 86637728.0000 - 47s/epoch - 9ms/step\n",
      "Epoch 10/10\n",
      "5142/5142 - 47s - loss: 107750400.0000 - val_loss: 88045984.0000 - 47s/epoch - 9ms/step\n",
      "1607/1607 [==============================] - 8s 5ms/step\n",
      "RMSE: 9321.012206945123; NRMSE: 0.14400642580297654; R2: 0.9986438441988729\n",
      "Time elapsed: 471.53639936447144 seconds\n"
     ]
    }
   ],
   "source": [
    "start = time.time()\n",
    "RMLP_SP2 = RMLPModel(x_stand_pca_train, y_train, x_stand_pca_test, y_test, hidden_layer_size=(200,100), epochs=10, \n",
    "                   ytest_range=mean_price_range)\n",
    "end = time.time()\n",
    "print(f\"Time elapsed: {end-start} seconds\")"
   ]
  },
  {
   "cell_type": "code",
   "execution_count": 61,
   "id": "af87535c",
   "metadata": {
    "colab": {
     "base_uri": "https://localhost:8080/"
    },
    "id": "TfpmOvxomVEt",
    "outputId": "484fdcca-9f3b-40c5-ece8-77863bc5d279"
   },
   "outputs": [
    {
     "name": "stdout",
     "output_type": "stream",
     "text": [
      "Epoch 1/10\n",
      "5142/5142 - 102s - loss: 19733860352.0000 - val_loss: 1962408064.0000 - 102s/epoch - 20ms/step\n",
      "Epoch 2/10\n",
      "5142/5142 - 95s - loss: 1078502528.0000 - val_loss: 720770944.0000 - 95s/epoch - 18ms/step\n",
      "Epoch 3/10\n",
      "5142/5142 - 92s - loss: 617743360.0000 - val_loss: 539988672.0000 - 92s/epoch - 18ms/step\n",
      "Epoch 4/10\n",
      "5142/5142 - 90s - loss: 437282592.0000 - val_loss: 418345664.0000 - 90s/epoch - 17ms/step\n",
      "Epoch 5/10\n",
      "5142/5142 - 90s - loss: 278650464.0000 - val_loss: 224651328.0000 - 90s/epoch - 18ms/step\n",
      "Epoch 6/10\n",
      "5142/5142 - 93s - loss: 160198704.0000 - val_loss: 141003472.0000 - 93s/epoch - 18ms/step\n",
      "Epoch 7/10\n",
      "5142/5142 - 88s - loss: 108544608.0000 - val_loss: 91009000.0000 - 88s/epoch - 17ms/step\n",
      "Epoch 8/10\n",
      "5142/5142 - 93s - loss: 90767160.0000 - val_loss: 90419568.0000 - 93s/epoch - 18ms/step\n",
      "Epoch 9/10\n",
      "5142/5142 - 95s - loss: 83647976.0000 - val_loss: 96754272.0000 - 95s/epoch - 18ms/step\n",
      "Epoch 10/10\n",
      "5142/5142 - 97s - loss: 76854392.0000 - val_loss: 78738224.0000 - 97s/epoch - 19ms/step\n",
      "1607/1607 [==============================] - 14s 9ms/step\n",
      "RMSE: 8723.038234074455; NRMSE: 0.1347679340335796; R2: 0.9988122665580956\n",
      "Time elapsed: 947.7124736309052 seconds\n"
     ]
    }
   ],
   "source": [
    "start = time.time()\n",
    "RMLP_S2 = RMLPModel(x_stand_train, y_train, x_stand_test, y_test, hidden_layer_size=(200,100), epochs=10, \n",
    "                   ytest_range=mean_price_range)\n",
    "end = time.time()\n",
    "print(f\"Time elapsed: {end-start} seconds\")"
   ]
  },
  {
   "cell_type": "markdown",
   "id": "589d4097",
   "metadata": {
    "id": "jtedE80Gfq6C"
   },
   "source": [
    "### Three Hidden Layers"
   ]
  },
  {
   "cell_type": "markdown",
   "id": "361de61a",
   "metadata": {
    "id": "cWEXVxrxfpZ9"
   },
   "source": [
    "> NP3 = Normalized, PCA, 3 layers. >N3 = Normalized, 3 layers. SP3 = Standardized, PCA, 3 layers. S3 = Standardized, 3 layers."
   ]
  },
  {
   "cell_type": "code",
   "execution_count": 57,
   "id": "1deed069",
   "metadata": {
    "colab": {
     "base_uri": "https://localhost:8080/"
    },
    "id": "UK8toTDO0RoJ",
    "outputId": "90ecd3bd-060e-4435-d119-16a2bc93e753"
   },
   "outputs": [
    {
     "name": "stdout",
     "output_type": "stream",
     "text": [
      "Epoch 1/10\n",
      "5142/5142 - 43s - loss: 7442109440.0000 - val_loss: 769894272.0000 - 43s/epoch - 8ms/step\n",
      "Epoch 2/10\n",
      "5142/5142 - 39s - loss: 686038592.0000 - val_loss: 441327872.0000 - 39s/epoch - 8ms/step\n",
      "Epoch 3/10\n",
      "5142/5142 - 39s - loss: 415571808.0000 - val_loss: 264905168.0000 - 39s/epoch - 8ms/step\n",
      "Epoch 4/10\n",
      "5142/5142 - 40s - loss: 351669056.0000 - val_loss: 269035680.0000 - 40s/epoch - 8ms/step\n",
      "Epoch 5/10\n",
      "5142/5142 - 39s - loss: 310027040.0000 - val_loss: 216614080.0000 - 39s/epoch - 8ms/step\n",
      "Epoch 6/10\n",
      "5142/5142 - 40s - loss: 264034896.0000 - val_loss: 191769392.0000 - 40s/epoch - 8ms/step\n",
      "Epoch 7/10\n",
      "5142/5142 - 40s - loss: 264006880.0000 - val_loss: 229209632.0000 - 40s/epoch - 8ms/step\n",
      "Epoch 8/10\n",
      "5142/5142 - 40s - loss: 249457952.0000 - val_loss: 240604576.0000 - 40s/epoch - 8ms/step\n",
      "Epoch 9/10\n",
      "5142/5142 - 40s - loss: 218281568.0000 - val_loss: 216084768.0000 - 40s/epoch - 8ms/step\n",
      "Epoch 10/10\n",
      "5142/5142 - 40s - loss: 214185888.0000 - val_loss: 430539040.0000 - 40s/epoch - 8ms/step\n",
      "1607/1607 [==============================] - 7s 4ms/step\n",
      "RMSE: 20321.6708483033; NRMSE: 0.3139628100720853; R2: 0.9935538225265905\n",
      "Time elapsed: 408.06355452537537 seconds\n"
     ]
    }
   ],
   "source": [
    "start = time.time()\n",
    "RMLP_NP3 = RMLPModel(x_norm_pca_train, y_train, x_norm_pca_test, y_test, hidden_layer_size=(150,75,35), epochs=10, \n",
    "                   ytest_range=mean_price_range)\n",
    "end = time.time()\n",
    "print(f\"Time elapsed: {end-start} seconds\")"
   ]
  },
  {
   "cell_type": "code",
   "execution_count": 63,
   "id": "a1d2c466",
   "metadata": {
    "colab": {
     "base_uri": "https://localhost:8080/"
    },
    "id": "svsJxaYjfpZ_",
    "outputId": "8b9c108a-4941-4eb8-8e99-4c89c9d67cb6"
   },
   "outputs": [
    {
     "name": "stdout",
     "output_type": "stream",
     "text": [
      "Epoch 1/10\n",
      "5142/5142 - 86s - loss: 6499857408.0000 - val_loss: 700254912.0000 - 86s/epoch - 17ms/step\n",
      "Epoch 2/10\n",
      "5142/5142 - 82s - loss: 434293344.0000 - val_loss: 213435616.0000 - 82s/epoch - 16ms/step\n",
      "Epoch 3/10\n",
      "5142/5142 - 85s - loss: 267334144.0000 - val_loss: 161112752.0000 - 85s/epoch - 17ms/step\n",
      "Epoch 4/10\n",
      "5142/5142 - 83s - loss: 253225296.0000 - val_loss: 148577632.0000 - 83s/epoch - 16ms/step\n",
      "Epoch 5/10\n",
      "5142/5142 - 80s - loss: 203406000.0000 - val_loss: 112365136.0000 - 80s/epoch - 16ms/step\n",
      "Epoch 6/10\n",
      "5142/5142 - 83s - loss: 166625984.0000 - val_loss: 127530384.0000 - 83s/epoch - 16ms/step\n",
      "Epoch 7/10\n",
      "5142/5142 - 82s - loss: 175093984.0000 - val_loss: 182398240.0000 - 82s/epoch - 16ms/step\n",
      "Epoch 8/10\n",
      "5142/5142 - 87s - loss: 150832352.0000 - val_loss: 150256928.0000 - 87s/epoch - 17ms/step\n",
      "Epoch 9/10\n",
      "5142/5142 - 79s - loss: 143539920.0000 - val_loss: 142965248.0000 - 79s/epoch - 15ms/step\n",
      "Epoch 10/10\n",
      "5142/5142 - 82s - loss: 122878936.0000 - val_loss: 150621712.0000 - 82s/epoch - 16ms/step\n",
      "1607/1607 [==============================] - 11s 7ms/step\n",
      "RMSE: 12164.86330869756; NRMSE: 0.18794294509796053; R2: 0.997690074893508\n",
      "Time elapsed: 841.8583009243011 seconds\n"
     ]
    }
   ],
   "source": [
    "start = time.time()\n",
    "RMLP_N3 = RMLPModel(x_norm_train, y_train, x_norm_test, y_test, hidden_layer_size=(200,100,50), epochs=10, \n",
    "                   ytest_range=mean_price_range)\n",
    "end = time.time()\n",
    "print(f\"Time elapsed: {end-start} seconds\")"
   ]
  },
  {
   "cell_type": "code",
   "execution_count": 58,
   "id": "0b045f97",
   "metadata": {
    "colab": {
     "base_uri": "https://localhost:8080/"
    },
    "id": "qZokbO0qfpZ_",
    "outputId": "a25e6388-7cf3-4b49-b4ff-7fde0c34b99d"
   },
   "outputs": [
    {
     "name": "stdout",
     "output_type": "stream",
     "text": [
      "Epoch 1/10\n",
      "5142/5142 - 46s - loss: 8918522880.0000 - val_loss: 783940992.0000 - 46s/epoch - 9ms/step\n",
      "Epoch 2/10\n",
      "5142/5142 - 50s - loss: 645771264.0000 - val_loss: 383253792.0000 - 50s/epoch - 10ms/step\n",
      "Epoch 3/10\n",
      "5142/5142 - 52s - loss: 386493184.0000 - val_loss: 798611904.0000 - 52s/epoch - 10ms/step\n",
      "Epoch 4/10\n",
      "5142/5142 - 50s - loss: 353682880.0000 - val_loss: 431342816.0000 - 50s/epoch - 10ms/step\n",
      "Epoch 5/10\n",
      "5142/5142 - 52s - loss: 320734848.0000 - val_loss: 278820096.0000 - 52s/epoch - 10ms/step\n",
      "Epoch 6/10\n",
      "5142/5142 - 53s - loss: 295173696.0000 - val_loss: 167259072.0000 - 53s/epoch - 10ms/step\n",
      "Epoch 7/10\n",
      "5142/5142 - 49s - loss: 253712304.0000 - val_loss: 186030624.0000 - 49s/epoch - 10ms/step\n",
      "Epoch 8/10\n",
      "5142/5142 - 46s - loss: 255396752.0000 - val_loss: 294391712.0000 - 46s/epoch - 9ms/step\n",
      "Epoch 9/10\n",
      "5142/5142 - 48s - loss: 232044992.0000 - val_loss: 214798992.0000 - 48s/epoch - 9ms/step\n",
      "Epoch 10/10\n",
      "5142/5142 - 46s - loss: 214936368.0000 - val_loss: 252393984.0000 - 46s/epoch - 9ms/step\n",
      "1607/1607 [==============================] - 8s 5ms/step\n",
      "RMSE: 15672.812222939025; NRMSE: 0.24213954669268253; R2: 0.9961657776605188\n",
      "Time elapsed: 500.6339840888977 seconds\n"
     ]
    }
   ],
   "source": [
    "start = time.time()\n",
    "RMLP_SP3 = RMLPModel(x_stand_pca_train, y_train, x_stand_pca_test, y_test, hidden_layer_size=(200,100,50), epochs=10, \n",
    "                   ytest_range=mean_price_range)\n",
    "end = time.time()\n",
    "print(f\"Time elapsed: {end-start} seconds\")"
   ]
  },
  {
   "cell_type": "code",
   "execution_count": 65,
   "id": "f260ec15",
   "metadata": {
    "colab": {
     "base_uri": "https://localhost:8080/"
    },
    "id": "J5SwGssIfpaA",
    "outputId": "5030e36b-8237-44d3-deb5-da79bf4a5afb"
   },
   "outputs": [
    {
     "name": "stdout",
     "output_type": "stream",
     "text": [
      "Epoch 1/10\n",
      "5142/5142 - 58s - loss: 7185767936.0000 - val_loss: 415565120.0000 - 58s/epoch - 11ms/step\n",
      "Epoch 2/10\n",
      "5142/5142 - 57s - loss: 327011648.0000 - val_loss: 124771048.0000 - 57s/epoch - 11ms/step\n",
      "Epoch 3/10\n",
      "5142/5142 - 58s - loss: 208748496.0000 - val_loss: 171396976.0000 - 58s/epoch - 11ms/step\n",
      "Epoch 4/10\n",
      "5142/5142 - 60s - loss: 185901312.0000 - val_loss: 122973720.0000 - 60s/epoch - 12ms/step\n",
      "Epoch 5/10\n",
      "5142/5142 - 61s - loss: 174060560.0000 - val_loss: 117882744.0000 - 61s/epoch - 12ms/step\n",
      "Epoch 6/10\n",
      "5142/5142 - 60s - loss: 171912432.0000 - val_loss: 175849488.0000 - 60s/epoch - 12ms/step\n",
      "Epoch 7/10\n",
      "5142/5142 - 61s - loss: 142377376.0000 - val_loss: 122699720.0000 - 61s/epoch - 12ms/step\n",
      "Epoch 8/10\n",
      "5142/5142 - 62s - loss: 148280176.0000 - val_loss: 85220128.0000 - 62s/epoch - 12ms/step\n",
      "Epoch 9/10\n",
      "5142/5142 - 61s - loss: 134719232.0000 - val_loss: 88303992.0000 - 61s/epoch - 12ms/step\n",
      "Epoch 10/10\n",
      "5142/5142 - 59s - loss: 133750200.0000 - val_loss: 104705352.0000 - 59s/epoch - 11ms/step\n",
      "1607/1607 [==============================] - 9s 6ms/step\n",
      "RMSE: 10224.675139381467; NRMSE: 0.15796770663187962; R2: 0.9983681416073918\n",
      "Time elapsed: 605.4213016033173 seconds\n"
     ]
    }
   ],
   "source": [
    "start = time.time()\n",
    "RMLP_S3 = RMLPModel(x_stand_train, y_train, x_stand_test, y_test, hidden_layer_size=(200,75,40), epochs=10, \n",
    "                   ytest_range=mean_price_range)\n",
    "end = time.time()\n",
    "print(f\"Time elapsed: {end-start} seconds\")"
   ]
  },
  {
   "cell_type": "markdown",
   "id": "4c632b91",
   "metadata": {
    "id": "tLIEsbjgu1Mt"
   },
   "source": [
    "### Five Hidden Layers"
   ]
  },
  {
   "cell_type": "markdown",
   "id": "d88add46",
   "metadata": {
    "id": "r7VCw1-Ou1Mu"
   },
   "source": [
    "> NP5 = Normalized, PCA, 5 layers. >N3 = Normalized, 5 layers. SP5 = Standardized, PCA, 5 layers. S5 = Standardized, 5 layers."
   ]
  },
  {
   "cell_type": "code",
   "execution_count": 61,
   "id": "31c03ada",
   "metadata": {},
   "outputs": [
    {
     "name": "stdout",
     "output_type": "stream",
     "text": [
      "Epoch 1/10\n",
      "5142/5142 - 70s - loss: 5932553728.0000 - val_loss: 976655296.0000 - 70s/epoch - 14ms/step\n",
      "Epoch 2/10\n",
      "5142/5142 - 77s - loss: 1763972864.0000 - val_loss: 1524101248.0000 - 77s/epoch - 15ms/step\n",
      "Epoch 3/10\n",
      "5142/5142 - 74s - loss: 1094377216.0000 - val_loss: 2536403200.0000 - 74s/epoch - 14ms/step\n",
      "Epoch 4/10\n",
      "5142/5142 - 72s - loss: 1395095680.0000 - val_loss: 387357632.0000 - 72s/epoch - 14ms/step\n",
      "Epoch 5/10\n",
      "5142/5142 - 70s - loss: 899990720.0000 - val_loss: 319460096.0000 - 70s/epoch - 14ms/step\n",
      "Epoch 6/10\n",
      "5142/5142 - 71s - loss: 802627520.0000 - val_loss: 298254176.0000 - 71s/epoch - 14ms/step\n",
      "Epoch 7/10\n",
      "5142/5142 - 72s - loss: 613032192.0000 - val_loss: 296071584.0000 - 72s/epoch - 14ms/step\n",
      "Epoch 8/10\n",
      "5142/5142 - 71s - loss: 549187648.0000 - val_loss: 329449696.0000 - 71s/epoch - 14ms/step\n",
      "Epoch 9/10\n",
      "5142/5142 - 69s - loss: 492997984.0000 - val_loss: 232231536.0000 - 69s/epoch - 13ms/step\n",
      "Epoch 10/10\n",
      "5142/5142 - 67s - loss: 452446080.0000 - val_loss: 324155200.0000 - 67s/epoch - 13ms/step\n",
      "1607/1607 [==============================] - 9s 5ms/step\n",
      "RMSE: 17969.01322844355; NRMSE: 0.27761506076630704; R2: 0.9949599842989613\n",
      "Time elapsed: 723.0195622444153 seconds\n"
     ]
    }
   ],
   "source": [
    "start = time.time()\n",
    "RMLP_NP5 = RMLPModel(x_norm_pca_train, y_train, x_norm_pca_test, y_test, hidden_layer_size=(180,150,100,75,35), epochs=10, \n",
    "                   ytest_range=mean_price_range)\n",
    "end = time.time()\n",
    "print(f\"Time elapsed: {end-start} seconds\")"
   ]
  },
  {
   "cell_type": "code",
   "execution_count": 67,
   "id": "b9c860eb",
   "metadata": {},
   "outputs": [
    {
     "name": "stdout",
     "output_type": "stream",
     "text": [
      "Epoch 1/10\n",
      "5142/5142 - 81s - loss: 4690932736.0000 - val_loss: 989982720.0000 - 81s/epoch - 16ms/step\n",
      "Epoch 2/10\n",
      "5142/5142 - 70s - loss: 1021072192.0000 - val_loss: 496259200.0000 - 70s/epoch - 14ms/step\n",
      "Epoch 3/10\n",
      "5142/5142 - 69s - loss: 908128832.0000 - val_loss: 7159499776.0000 - 69s/epoch - 14ms/step\n",
      "Epoch 4/10\n",
      "5142/5142 - 71s - loss: 771201216.0000 - val_loss: 439945472.0000 - 71s/epoch - 14ms/step\n",
      "Epoch 5/10\n",
      "5142/5142 - 75s - loss: 552043328.0000 - val_loss: 383795328.0000 - 75s/epoch - 15ms/step\n",
      "Epoch 6/10\n",
      "5142/5142 - 73s - loss: 504587136.0000 - val_loss: 235421040.0000 - 73s/epoch - 14ms/step\n",
      "Epoch 7/10\n",
      "5142/5142 - 67s - loss: 495118560.0000 - val_loss: 425713376.0000 - 67s/epoch - 13ms/step\n",
      "Epoch 8/10\n",
      "5142/5142 - 67s - loss: 446517696.0000 - val_loss: 349656320.0000 - 67s/epoch - 13ms/step\n",
      "Epoch 9/10\n",
      "5142/5142 - 70s - loss: 403535776.0000 - val_loss: 147564416.0000 - 70s/epoch - 14ms/step\n",
      "Epoch 10/10\n",
      "5142/5142 - 71s - loss: 363932544.0000 - val_loss: 639588160.0000 - 71s/epoch - 14ms/step\n",
      "1607/1607 [==============================] - 10s 6ms/step\n",
      "RMSE: 24605.79723700621; NRMSE: 0.38015108611206666; R2: 0.9905494232296324\n",
      "Time elapsed: 725.2440509796143 seconds\n"
     ]
    }
   ],
   "source": [
    "start = time.time()\n",
    "RMLP_N5 = RMLPModel(x_norm_train, y_train, x_norm_test, y_test, hidden_layer_size=(200,120,90,60,35), epochs=10, \n",
    "                   ytest_range=mean_price_range)\n",
    "end = time.time()\n",
    "print(f\"Time elapsed: {end-start} seconds\")"
   ]
  },
  {
   "cell_type": "code",
   "execution_count": 60,
   "id": "69713e66",
   "metadata": {},
   "outputs": [
    {
     "name": "stdout",
     "output_type": "stream",
     "text": [
      "Epoch 1/10\n",
      "5142/5142 - 62s - loss: 6657111040.0000 - val_loss: 2887010048.0000 - 62s/epoch - 12ms/step\n",
      "Epoch 2/10\n",
      "5142/5142 - 62s - loss: 1946792576.0000 - val_loss: 664460736.0000 - 62s/epoch - 12ms/step\n",
      "Epoch 3/10\n",
      "5142/5142 - 62s - loss: 1076409344.0000 - val_loss: 625588800.0000 - 62s/epoch - 12ms/step\n",
      "Epoch 4/10\n",
      "5142/5142 - 62s - loss: 1079516800.0000 - val_loss: 270992160.0000 - 62s/epoch - 12ms/step\n",
      "Epoch 5/10\n",
      "5142/5142 - 67s - loss: 853047360.0000 - val_loss: 210475856.0000 - 67s/epoch - 13ms/step\n",
      "Epoch 6/10\n",
      "5142/5142 - 74s - loss: 662131392.0000 - val_loss: 245463264.0000 - 74s/epoch - 14ms/step\n",
      "Epoch 7/10\n",
      "5142/5142 - 72s - loss: 730942272.0000 - val_loss: 1253039744.0000 - 72s/epoch - 14ms/step\n",
      "Epoch 8/10\n",
      "5142/5142 - 63s - loss: 624993792.0000 - val_loss: 196911040.0000 - 63s/epoch - 12ms/step\n",
      "Epoch 9/10\n",
      "5142/5142 - 63s - loss: 507813408.0000 - val_loss: 219680368.0000 - 63s/epoch - 12ms/step\n",
      "Epoch 10/10\n",
      "5142/5142 - 61s - loss: 505244128.0000 - val_loss: 208448832.0000 - 61s/epoch - 12ms/step\n",
      "1607/1607 [==============================] - 9s 4ms/step\n",
      "RMSE: 14498.209709537605; NRMSE: 0.223992342726133; R2: 0.9967189549970823\n",
      "Time elapsed: 658.7556591033936 seconds\n"
     ]
    }
   ],
   "source": [
    "start = time.time()\n",
    "RMLP_SP5 = RMLPModel(x_stand_pca_train, y_train, x_stand_pca_test, y_test, hidden_layer_size=(180,150,100,75,35), epochs=10, \n",
    "                   ytest_range=mean_price_range)\n",
    "end = time.time()\n",
    "print(f\"Time elapsed: {end-start} seconds\")"
   ]
  },
  {
   "cell_type": "code",
   "execution_count": 69,
   "id": "d30d3fb7",
   "metadata": {
    "colab": {
     "base_uri": "https://localhost:8080/"
    },
    "id": "XpG1emyQu1My",
    "outputId": "5030e36b-8237-44d3-deb5-da79bf4a5afb"
   },
   "outputs": [
    {
     "name": "stdout",
     "output_type": "stream",
     "text": [
      "Epoch 1/10\n",
      "5142/5142 - 186s - loss: 5381681152.0000 - val_loss: 435737952.0000 - 186s/epoch - 36ms/step\n",
      "Epoch 2/10\n",
      "5142/5142 - 179s - loss: 1551285248.0000 - val_loss: 369686816.0000 - 179s/epoch - 35ms/step\n",
      "Epoch 3/10\n",
      "5142/5142 - 192s - loss: 1022569856.0000 - val_loss: 657485120.0000 - 192s/epoch - 37ms/step\n",
      "Epoch 4/10\n",
      "5142/5142 - 192s - loss: 932311808.0000 - val_loss: 203630176.0000 - 192s/epoch - 37ms/step\n",
      "Epoch 5/10\n",
      "5142/5142 - 183s - loss: 727266112.0000 - val_loss: 330297728.0000 - 183s/epoch - 36ms/step\n",
      "Epoch 6/10\n",
      "5142/5142 - 168s - loss: 562692096.0000 - val_loss: 166103712.0000 - 168s/epoch - 33ms/step\n",
      "Epoch 7/10\n",
      "5142/5142 - 192s - loss: 513930816.0000 - val_loss: 699330368.0000 - 192s/epoch - 37ms/step\n",
      "Epoch 8/10\n",
      "5142/5142 - 190s - loss: 503043456.0000 - val_loss: 192039024.0000 - 190s/epoch - 37ms/step\n",
      "Epoch 9/10\n",
      "5142/5142 - 191s - loss: 500092224.0000 - val_loss: 151018752.0000 - 191s/epoch - 37ms/step\n",
      "Epoch 10/10\n",
      "5142/5142 - 191s - loss: 364318016.0000 - val_loss: 208751088.0000 - 191s/epoch - 37ms/step\n",
      "1607/1607 [==============================] - 17s 10ms/step\n",
      "RMSE: 14780.223548258171; NRMSE: 0.22834935932899356; R2: 0.996590070201863\n",
      "Time elapsed: 1880.5467736721039 seconds\n"
     ]
    }
   ],
   "source": [
    "start = time.time()\n",
    "RMLP_S5 = RMLPModel(x_stand_train, y_train, x_stand_test, y_test, hidden_layer_size=(200,170,120,80,55), epochs=10, \n",
    "                   ytest_range=mean_price_range)\n",
    "end = time.time()\n",
    "print(f\"Time elapsed: {end-start} seconds\")"
   ]
  },
  {
   "cell_type": "markdown",
   "id": "f2b4ed4d",
   "metadata": {
    "id": "881nQfUrJqFj"
   },
   "source": [
    "## Random Forest Regression"
   ]
  },
  {
   "cell_type": "code",
   "execution_count": 237,
   "id": "12f58c6a",
   "metadata": {
    "id": "U8BRRJzzJqV7"
   },
   "outputs": [],
   "source": [
    "# from sklearn.ensemble import RandomForestRegressor\n",
    "# def RF_reg(x_train, y_train, x_test, y_test, n_trees, ytest_range):\n",
    "#     rf = RandomForestRegressor(n_estimators=n_trees)\n",
    "\n",
    "\n",
    "#     rf.fit(x_train, y_train)\n",
    "#     rf_pred = rf.predict(x_test)\n",
    "\n",
    "\n",
    "#     rmse = np.sqrt(metrics.mean_squared_error(y_test, rf_pred))\n",
    "#     nrmse = rmse / ytest_range\n",
    "#     r2 = metrics.r2_score(y_test, rf_pred)\n",
    "\n",
    "#     print(f\"RMSE: {rmse}; NRMSE: {nrmse}; R2: {r2}\")\n",
    "    \n",
    "#     residuals = y_test - rf_pred\n",
    "#     # Residual Histogram\n",
    "#     plt.figure(figsize=(10, 4))\n",
    "#     plt.subplot(1, 2, 1)\n",
    "#     plt.hist(residuals, bins=20, edgecolor='black')\n",
    "#     plt.title('Residual Histogram')\n",
    "#     plt.xlabel('Residuals')\n",
    "#     plt.ylabel('Frequency')\n",
    "\n",
    "#     # Residual Box Plot\n",
    "#     plt.subplot(1, 2, 2)\n",
    "#     plt.boxplot(residuals)\n",
    "#     plt.title('Residual Box Plot')\n",
    "#     plt.ylabel('Residuals')\n",
    "\n",
    "#     plt.tight_layout()\n",
    "#     plt.show()\n",
    "\n",
    "    \n",
    "#     return rf_pred"
   ]
  },
  {
   "cell_type": "code",
   "execution_count": null,
   "id": "546b74b4",
   "metadata": {},
   "outputs": [],
   "source": [
    "# RF_pred = RF_reg(x_stand_pca_train, y_train, x_stand_pca_test, y_test, n_trees=100, ytest_range=mean_price_range)"
   ]
  },
  {
   "cell_type": "code",
   "execution_count": 234,
   "id": "84301fa8",
   "metadata": {},
   "outputs": [
    {
     "data": {
      "text/plain": [
       "array([ -1341.1042 ,  -5872.9304 ,   4381.4468 , ...,   1729.36187,\n",
       "       -23738.2692 ,  32475.6074 ])"
      ]
     },
     "execution_count": 234,
     "metadata": {},
     "output_type": "execute_result"
    }
   ],
   "source": [
    "# y_test - RF_pred"
   ]
  },
  {
   "cell_type": "markdown",
   "id": "6b552f50",
   "metadata": {
    "id": "4286805c"
   },
   "source": [
    "## LSTM"
   ]
  },
  {
   "cell_type": "code",
   "execution_count": null,
   "id": "22620133",
   "metadata": {
    "id": "4P72OwFFWpaf"
   },
   "outputs": [],
   "source": [
    "# sequence_length = 4  # Using 4 months as a sequence to predict"
   ]
  },
  {
   "cell_type": "code",
   "execution_count": 203,
   "id": "0f9f0853",
   "metadata": {
    "id": "dAUHKVMFcH5-"
   },
   "outputs": [],
   "source": [
    "# import numpy as np\n",
    "# from tensorflow.keras.models import Sequential\n",
    "# from tensorflow.keras.layers import LSTM, Dense\n",
    "# from sklearn.model_selection import train_test_split\n",
    "# from sklearn import metrics\n",
    "# from tensorflow.keras.preprocessing.sequence import TimeseriesGenerator\n",
    "# from keras.regularizers import l2\n",
    "\n",
    "# def LSTM_Model(x_train, y_train, x_test, y_test, hidden_layer_size, epochs, n_sequence, ytest_range, l2_strength=0.001):\n",
    "    \n",
    "#     x_train_split, x_val_split, y_train_split, y_val_split = train_test_split(\n",
    "#         x_train, y_train, test_size=0.2, shuffle=False\n",
    "#     )\n",
    "\n",
    "#     train_generator = TimeseriesGenerator(x_train_split, y_train_split, length=n_sequence,  sampling_rate=1, batch_size=32)\n",
    "#     val_generator = TimeseriesGenerator(x_val_split, y_val_split, length=n_sequence, sampling_rate=1, batch_size=32)\n",
    "    \n",
    "#     test_generator = TimeseriesGenerator(x_test, y_test, length=n_sequence, sampling_rate=1, batch_size=4120)\n",
    "\n",
    "    \n",
    "# #     return test_generator\n",
    "#     num_features = x_train.shape[1]\n",
    "\n",
    "#     lstm = Sequential()\n",
    "#     lstm.add(LSTM(6, input_shape=(n_sequence, num_features), #change 6 to num_features\n",
    "#                   kernel_regularizer=l2(l2_strength),\n",
    "#                   recurrent_regularizer=l2(l2_strength), return_sequences=True))\n",
    "#     for size in hidden_layer_size[:-1]:\n",
    "#         lstm.add(LSTM(size, kernel_regularizer=l2(l2_strength), recurrent_regularizer=l2(l2_strength), return_sequences=True))\n",
    "#     lstm.add(LSTM(hidden_layer_size[-1], kernel_regularizer=l2(l2_strength), recurrent_regularizer=l2(l2_strength),\n",
    "#                   return_sequences=False))\n",
    "    \n",
    "#     lstm.add(Dense(1))\n",
    "    \n",
    "#     lstm.compile(loss='mean_squared_error', optimizer='adam')\n",
    "    \n",
    "#     lstm.fit(train_generator, epochs=epochs, validation_data=val_generator)\n",
    "\n",
    "#     lstm_predict = lstm.predict(test_generator)\n",
    "#     rmse = np.sqrt(metrics.mean_squared_error(y_test, lstm_predict))\n",
    "#     nrmse = rmse / ytest_range\n",
    "#     r2 = metrics.r2_score(y_test, lstm_predict)\n",
    "#     print(f\"RMSE: {rmse}; NRMSE: {nrmse}; R2: {r2}\")\n",
    "#     return lstm_predict\n"
   ]
  },
  {
   "cell_type": "code",
   "execution_count": 211,
   "id": "1e6e3088",
   "metadata": {},
   "outputs": [],
   "source": [
    "# def reshape_to_sequences(data, labels, n_sequence):\n",
    "#     sequences = []\n",
    "#     sequence_labels = []\n",
    "#     for i in range(len(data) - n_sequence + 1):\n",
    "#         sequences.append(data[i:i+n_sequence])\n",
    "#         sequence_labels.append(labels[i+n_sequence-1])\n",
    "#     return np.array(sequences), np.array(sequence_labels)"
   ]
  },
  {
   "cell_type": "code",
   "execution_count": null,
   "id": "c52b4d1a",
   "metadata": {},
   "outputs": [],
   "source": [
    "# x_norm_train_split, x_norm_val_split,x_stand_train_split, x_stand_val_split = train_test_split(\n",
    "# x_norm_train, x_stand_train, test_size=0.2, shuffle=False)\n",
    "# x_norm_pca_train_split, x_norm_pca_val_split,x_stand_pca_train_split, x_stand_pca_val_split = train_test_split(\n",
    "# x_norm_pca_train, x_stand_pca_train, test_size=0.2, shuffle=False)\n",
    "# y_train_split, y_val_split = train_test_split(y_train, test_size=0.2, shuffle=False)"
   ]
  }
 ],
 "metadata": {
  "colab": {
   "collapsed_sections": [
    "GJk5i85cgbRk",
    "ba8a8c5e",
    "881nQfUrJqFj",
    "RBdsTOz1XAi5",
    "7ea53d8d",
    "jtedE80Gfq6C",
    "tLIEsbjgu1Mt"
   ],
   "provenance": []
  },
  "kernelspec": {
   "display_name": "Python 3 (ipykernel)",
   "language": "python",
   "name": "python3"
  },
  "language_info": {
   "codemirror_mode": {
    "name": "ipython",
    "version": 3
   },
   "file_extension": ".py",
   "mimetype": "text/x-python",
   "name": "python",
   "nbconvert_exporter": "python",
   "pygments_lexer": "ipython3",
   "version": "3.9.13"
  }
 },
 "nbformat": 4,
 "nbformat_minor": 5
}
